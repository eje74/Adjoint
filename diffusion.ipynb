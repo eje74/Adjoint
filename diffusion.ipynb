{
 "cells": [
  {
   "cell_type": "code",
   "execution_count": 52,
   "metadata": {},
   "outputs": [],
   "source": [
    "import numpy as np\n",
    "import matplotlib.pyplot as plt\n",
    "\n",
    "from scipy.sparse import lil_matrix\n",
    "from scipy.sparse.linalg import spsolve\n",
    "\n",
    "from time import time_ns\n"
   ]
  },
  {
   "attachments": {},
   "cell_type": "markdown",
   "metadata": {},
   "source": [
    "# Adjoint methods\n",
    "## Lagrange multipliers\n",
    "Here we will just give an example of how to use Lagrange multipliers to find the minium of the function $H(x,y) = x^2 + y^2$ given the constraint $x+y=1$. \n",
    "\n",
    "The standard method would simply be to treat e.g. $y$ as a function of $x$ and insert $y(x) = 1 - x$ into the functional expression for $H(x, y(x))=x^2 + (1-x)^2$, and then minimize that function. Another approach would be to find the differential of $H$, $\\mathrm{d}H = 2x\\mathrm{d}x + 2y\\mathrm{d}y$, and find out where this equal zero. By taking the differential of the constraint as well, we obtain the following system of equation\n",
    "\\begin{align*}\n",
    "    \\mathrm{d}H &= 2x\\mathrm{d}x + 2y\\mathrm{d}y \\\\\n",
    "    0 &= \\mathrm{d}x + \\mathrm{d}y.\n",
    "\\end{align*}\n",
    "Now, we are allowed to multiply the differential of the constraint by a arbitrary value, $\\lambda$, and add it to the differential of $H$\n",
    "\\begin{equation*}\n",
    "    \\mathrm{d}H = 2x\\mathrm{d}x + 2y\\mathrm{d}y + \\lambda\\left(\\mathrm{d}x + \\mathrm{d}y\\right),\n",
    "\\end{equation*}\n",
    "and we can rewrite this as \n",
    "\\begin{equation*}\n",
    "    \\mathrm{d}H = \\left(2x + \\lambda\\right)\\mathrm{d}x + \\left(2y + \\lambda\\right)\\mathrm{d}y,\n",
    "\\end{equation*}\n",
    "We can now remove the $\\mathrm{d}y$ term by choosing $\\lambda = -2y$, and we are left with \n",
    "\\begin{equation*}\n",
    "    \\mathrm{d}H = \\left(2x -2y\\right)\\mathrm{d}x.\n",
    "\\end{equation*}\n",
    "To get the differential to be zero we must have that $2x -2y = 0$, that is $x = y$. Inserting this in the constraint, $x+y=1$, gives us $x=y=1/2$. This is then basically the Lagrange multiplier approach. \n",
    "\n",
    "For the purpose of adjoint methods, the importance of the above expression is that we can calculate the variance using our choice of independent variables. If we, for instance, wanted to minimize $H$ using $x$, with the given constraint, using a gradient descent method, we could use the Lagrangian multiplier formalism to find the gradient and use this to update $x$. For the given system we would want to choose $\\mathrm{d}x \\propto -\\left(2x -2y\\right)$ such that $\\mathrm{d}H<0$.\n",
    "\n",
    "We could summarize the minimization algorithm in the following steps:\n",
    "1. Choose an initial value, $x_n = x_\\mathrm{guess}$, with $n=0$  \n",
    "2. Calculate $y_n = y(x_n) = 1 - x_n$\n",
    "3. Calculate the gradient $$ \\frac{\\partial H}{\\partial x}(x_n, y_n) =  2x_n -2y_n$$\n",
    "4. Update the $x$-value $$x_{n+1} = x_n -\\alpha_n\\frac{\\partial H}{\\partial x}(x_n, y_n),$$ where $\\alpha_n$ is an step size (supplied by a separate algorithm).\n",
    "5. Check for convergence and repeat from 2. if not converge. \n",
    "\n",
    "\n",
    "\n",
    "## Background\n",
    "We will assume that we have  a set of \"free\"/design parameters that we can use for optimization, $p_\\alpha$,  variables that are updated by our numerical code, $x_\\beta$, and  a function the we want to optimize, $H(p_\\alpha, x_\\beta)$. We assume that the numerical code is described by a set of algebraic equations $l_\\gamma(p_\\alpha, x_\\beta) = 0$. Since the numerical code should apply values to all $x_n$'s we can assume that that the number of equations is equal to the number of $x_n$'s. With $(p_\\alpha, x_\\beta)$ we mean that the function is a function of the full set of $p$'s and $x$'s.\n",
    "\n",
    "Here we will treat the adjoint method simply as a way to calculate the variation in $H$ with respect to the design parameters. To do this we use the method outlined in the previous section, where the $l_\\gamma$ equations supplies the variations $\\mathrm{d}l_\\gamma$ used for the Lagrangian multipliers. \n",
    "\n",
    "Since we know that the $x_\\beta$'s follows the $l_\\gamma$'s we can the we can add these as Lagrange multiplier without affecting the variation, meaning that \n",
    "\\begin{equation*}\n",
    "    \\mathrm{d}L = \\mathrm{d}H + \\sum_\\gamma\\lambda_\\gamma\\mathrm{d}l_\\gamma,\n",
    "\\end{equation*}\n",
    "will give the same minimum as $\\mathrm{d}H = 0$.\n",
    "\n",
    "The point now is to choose the $\\lambda$'s so that we remove the $\\mathrm{d}x_\\beta$-dependence from the variation.\n",
    "\\begin{align*}\n",
    "    \\mathrm{d}L &= \\sum_\\alpha\\frac{\\partial H}{\\partial p_\\alpha}\\mathrm{d}p_\\alpha + \\sum_\\beta\\frac{\\partial H}{\\partial x_\\beta}\\mathrm{d}x_\\beta + \\sum_\\gamma\\lambda_\\gamma\\left(\\sum_\\alpha\\frac{\\partial l_\\gamma}{\\partial p_\\alpha}\\mathrm{d}p_\\alpha + \\sum_\\beta\\frac{\\partial l_\\gamma}{\\partial x_\\beta}\\mathrm{d}x_\\beta\\right) \\\\\n",
    "    &= \\sum_\\alpha\\left(\\frac{\\partial H}{\\partial p_\\alpha} + \\sum_\\gamma\\lambda_\\gamma\\frac{\\partial l_\\gamma}{\\partial p_\\alpha}\\right)\\mathrm{d}p_\\alpha + \\sum_\\beta\\left(\\frac{\\partial H}{\\partial x_\\beta} + \\sum_\\gamma\\lambda_\\gamma\\frac{\\partial l_\\gamma}{\\partial x_\\beta}\\right)\\mathrm{d}x_\\beta.\n",
    "\\end{align*}\n",
    "We can now choose the $\\lambda$'s so that \n",
    "$$\n",
    "    \\frac{\\partial H}{\\partial x_\\beta} + \\sum_\\gamma\\lambda_\\gamma\\frac{\\partial l_\\gamma}{\\partial x_\\beta} = 0,\n",
    "$$ \n",
    "and we are left with\n",
    "\\begin{equation*}\n",
    "\\mathrm{d}L = \\sum_\\alpha\\left(\\frac{\\partial H}{\\partial p_\\alpha} + \\sum_\\gamma\\lambda_\\gamma\\frac{\\partial l_\\gamma}{\\partial p_\\alpha}\\right)\\mathrm{d}p_\\alpha.\n",
    "\\end{equation*}\n",
    "The challenge is to setup and solve the set of equations for the Lagrange multipliers."
   ]
  },
  {
   "attachments": {},
   "cell_type": "markdown",
   "metadata": {},
   "source": [
    "# Diffusion\n",
    "The equation we solve is the simple diffusion equation\n",
    "\\begin{align*}\n",
    "\\frac{\\partial \\phi}{\\partial t} = \\nabla\\left(D\\nabla\\phi\\right),\n",
    "\\end{align*}\n",
    "and \n",
    "$$\n",
    "\\mathbf{n}\\cdot\\nabla\\phi = 0,\n",
    "$$\n",
    "for the solid boundaries and\n",
    "$$\n",
    " \\phi(\\mathbf{x}, t) = h(\\mathbf{x}),\n",
    "$$\n",
    "for the \"inlet\" and \"outlet\" boundaries.\n",
    "\n",
    "## Lattice Boltzmann\n",
    "We will setup an LB simulation where we add a parameter to fix the flux, so that we can easily implement an immersed boundary methods for the zero flux Neumann boundary conditions. The immersed boundary method was taken from the multi-phase lattice Boltzmann solver from A. Riaud et al. [Phys. Rev. E 89, 053308 (2014)].\n",
    "\\begin{align*}\n",
    " g_\\alpha(\\mathbf{x} + \\mathbf{c}_\\alpha, t + 1) &= g_\\alpha(\\mathbf{x}, t) - \\frac{1}{\\tau}\\left(g_\\alpha(\\mathbf{x}, t) - g_\\alpha^\\mathrm{eq}(\\mathbf{x}, t)\\right) + w_\\alpha \\beta_s(x-1)\\phi\\frac{\\mathbf{c}_\\alpha\\cdot\\mathbf{n}}{|\\mathbf{c}_\\alpha|} \\\\\n",
    " &= g_\\alpha(\\mathbf{x}, t) - \\frac{1}{\\tau}\\left(g_\\alpha(\\mathbf{x}, t) - g_\\alpha^\\mathrm{eq}(\\mathbf{x}, t)\\right) + R_\\alpha(\\mathbf{x})\\phi\n",
    "\\end{align*}\n",
    "where $g_\\alpha^\\mathrm{eq} = w_\\alpha\\phi$, and\n",
    "$$\n",
    "\\lambda_s = \\frac{\\tau\\beta_sk\\xi}{D}.\n",
    "$$\n",
    "The $k$ is defined by the expression\n",
    "$$\n",
    "2k\\delta_{ij} = \\sum_\\alpha w_\\alpha\\frac{c_{\\alpha i}c_{\\alpha j}}{|\\mathbf{c}_\\alpha|}.\n",
    "$$\n",
    "For d2q9 $k \\approx 0.150$.  $\\lambda_s$ seems to be treated as a \"sort of\" free parameter but seems to bo chosen as $\\lambda_s = 1$ for examples when a diffusive field is restricted to just one region.\n",
    "\n",
    "$\\xi$ is defined by the width of the surface witch is given by\n",
    "$$\n",
    "x = 1/2\\left(1 - \\tanh(d/\\xi)\\right),\n",
    "$$\n",
    "where $d$ is the signed distance function, $d < 0$ defines the domain.\n",
    "\n",
    "### Boundary condition (left and right hand side)\n",
    "Here we use a simple bounce back to set the inlet and outlet concentrations:\n",
    "$$\n",
    "g_{\\overline{\\alpha}} + g_\\alpha = 2w_\\alpha\\phi_\\mathrm{b},\n",
    "$$ \n",
    "where $\\mathbf{c}_{\\overline{\\alpha}} = - \\mathbf{c}_\\alpha$ and $\\phi_\\mathrm{b}$ is the constant we chose as our boundary concentration.\n",
    "\n",
    "### Boundary condition (top bottom)\n",
    "Periodic\n"
   ]
  },
  {
   "attachments": {},
   "cell_type": "markdown",
   "metadata": {},
   "source": [
    "\n",
    "## The LB scheme\n",
    "\n"
   ]
  },
  {
   "attachments": {},
   "cell_type": "markdown",
   "metadata": {},
   "source": [
    "### Functions\n",
    "#### Geometry\n",
    "The `make_geometry` function generates the signed distance function for a disk with radius `R` and `normals_from_scalar_field` calculates the normalized gradient field from a scalar field (which will give us the surface normals used in the LB scheme)"
   ]
  },
  {
   "cell_type": "code",
   "execution_count": 53,
   "metadata": {},
   "outputs": [],
   "source": [
    "def make_geometry(R, system_size):\n",
    "    X, Y = np.mgrid[:system_size[0], :system_size[1]]\n",
    "    X = X-(system_size[0])/2\n",
    "    Y = Y-(system_size[1])/2\n",
    "    return R - np.sqrt( X**2 + Y**2 )\n",
    "\n",
    "def normals_from_scalar_field(phi):\n",
    "    N = np.zeros( system_size + (phi.ndim,))\n",
    "    for dim in np.arange(phi.ndim):\n",
    "        # Derivative for bulk values\n",
    "        ind_bulk = (slice(None),)*dim + (slice(1, -1), ) + (slice(None),)*(phi.ndim - dim - 1)\n",
    "        ind_plus = (slice(None),)*dim + (slice(2, None), ) + (slice(None),)*(phi.ndim - dim - 1)\n",
    "        ind_minus = (slice(None),)*dim + (slice(0, -2), ) + (slice(None),)*(phi.ndim - dim - 1)\n",
    "        N[ind_bulk + (dim,)] = 0.5*(phi[ind_plus] - phi[ind_minus])\n",
    "        # Derivative for the left hand boundary\n",
    "        ind_bulk = (slice(None),)*dim + (0, ) + (slice(None),)*(phi.ndim - dim - 1)\n",
    "        ind_plus = (slice(None),)*dim + (1, ) + (slice(None),)*(phi.ndim - dim - 1)\n",
    "        N[ind_bulk + (dim,)] = (phi[ind_plus] - phi[ind_bulk])\n",
    "        # Derivative for the right hand boundary\n",
    "        ind_bulk = (slice(None),)*dim + (-1, ) + (slice(None),)*(phi.ndim - dim - 1)\n",
    "        ind_minus = (slice(None),)*dim + (-2, ) + (slice(None),)*(phi.ndim - dim - 1)\n",
    "        N[ind_bulk + (dim,)] = (phi[ind_bulk] - phi[ind_minus])\n",
    "    N /= np.sqrt( np.sum(N**2, axis=-1, keepdims=True) ) + 1e-10\n",
    "    return N\n"
   ]
  },
  {
   "attachments": {},
   "cell_type": "markdown",
   "metadata": {},
   "source": [
    "#### Propagation\n",
    "These two functions is used for the propagation step in the LB method. They will automatically enforce periodic boundary conditions:"
   ]
  },
  {
   "cell_type": "code",
   "execution_count": 54,
   "metadata": {},
   "outputs": [],
   "source": [
    "def circ_shift(valin, c_input):\n",
    "    valout = valin\n",
    "    for d, c in enumerate(c_input):\n",
    "        valout = np.roll(valout, c, axis=d)\n",
    "    return valout\n",
    "\n",
    "def propagate(f, c_input):\n",
    "    for q, c in enumerate(c_input):\n",
    "        f[..., q] = circ_shift(f[..., q], c)\n",
    "    return f\n",
    " "
   ]
  },
  {
   "attachments": {},
   "cell_type": "markdown",
   "metadata": {},
   "source": [
    "\n",
    "#### Source term\n",
    "`source_term`  returns the source term $R_\\alpha$ and the indicator function, $x$.  These are used to enforce the internal zero gradient boundary."
   ]
  },
  {
   "cell_type": "code",
   "execution_count": 55,
   "metadata": {},
   "outputs": [],
   "source": [
    "def source_term(R, tau, xi, w, c, system_size):\n",
    "    # set up solid geometry\n",
    "    d = make_geometry(R, system_size)  # Signed distance\n",
    "    N = normals_from_scalar_field(d)  # Normal vectors\n",
    "    x = 0.5*(1-np.tanh(d/xi)) # Indicator function\n",
    "    # Setup the source term\n",
    "    c = np.array(c)\n",
    "    c_norm = np.sqrt(np.sum(c**2, axis=-1)) + 10*np.finfo(float).eps\n",
    "    k = np.sum(w*c_norm)/2/len(system_size)\n",
    "    lambda_s = 1\n",
    "    D = (tau - 0.5)/3\n",
    "    beta = lambda_s*D/(tau*k*xi)\n",
    "    # broadcasting logic \n",
    "    # N   : ni x nj (x 1) x nd \n",
    "    # c   :         x nq  x nd\n",
    "    # c*N : ni x nj x nq\n",
    "    # w   :           nq\n",
    "    # x   : ni x nj(x  1)\n",
    "    #|c|  :           nq \n",
    "    #  =  : ni x nj x nq\n",
    "    boundary_source = w*beta*(x[..., np.newaxis] - 1)*np.sum(c*N[..., np.newaxis, :], axis=-1)/c_norm\n",
    "\n",
    "    return boundary_source, x\n"
   ]
  },
  {
   "attachments": {},
   "cell_type": "markdown",
   "metadata": {},
   "source": [
    "#### Simulation\n",
    "Function for simulating the complete diffusion process"
   ]
  },
  {
   "cell_type": "code",
   "execution_count": 56,
   "metadata": {},
   "outputs": [],
   "source": [
    "def run_system(lhs, rhs, R, xi, tau, w, c, alpha_rev, number_of_iterations, system_size):\n",
    "    rho0 = (lhs + rhs)/2\n",
    "\n",
    "    boundary_source, x = source_term(R, tau, xi, w, c, system_size)\n",
    "\n",
    "    g = np.zeros(system_size + (w.size,))\n",
    "    # bulk\n",
    "    g[1:-1, ...] = w*rho0*x[1:-1, ...,np.newaxis] \n",
    "    # lhs\n",
    "    g[0, ...] = w*lhs*x[0, ..., np.newaxis]\n",
    "    # lhs\n",
    "    g[-1, ...] = w*rhs*x[-1, ..., np.newaxis]\n",
    "\n",
    "\n",
    "    # Main loop\n",
    "    for itr in np.arange(number_of_iterations):\n",
    "        # Density\n",
    "        # -- keepdims=True, broadcasting logic\n",
    "        #    phi    ni x nj (x  1)\n",
    "        #    w                nq\n",
    "        #    w*phi  ni x nj x nq\n",
    "        phi = np.sum(g, axis=-1, keepdims=True)\n",
    "        # collision\n",
    "        g = propagate(\n",
    "             g - 1/tau*(g - w*phi) + boundary_source*phi,\n",
    "            c)\n",
    "        # boundary condition\n",
    "        # -- left hand side\n",
    "        for alpha in [1, 5, 7]:\n",
    "            g[0, :, alpha] = 2*w[alpha]*lhs - g[0, :, alpha_rev[alpha]]\n",
    "        # -- right hand side\n",
    "        for alpha in [2, 6, 8]:\n",
    "            g[-1, :, alpha] = 2*w[alpha]*rhs - g[-1, :, alpha_rev[alpha]]\n",
    "\n",
    "    # Calculate first moment of the distribution (at the left hand side)\n",
    "    # -- newaxis broadcasting\n",
    "    #    g    ni x nj x nq (x 1)\n",
    "    #    c              nq x nd\n",
    "    Mi = np.sum(g[0, ..., np.newaxis]*c, axis=-2)    \n",
    "\n",
    "    # Need to reshape phi from (ni,nj,1) to (ni,nj) \n",
    "    return phi.reshape(system_size), (tau-0.5)/tau*np.sum(Mi[:,0])/system_size[1] \n"
   ]
  },
  {
   "attachments": {},
   "cell_type": "markdown",
   "metadata": {},
   "source": [
    "## Adjoint method\n",
    "\n",
    "### Time independent LB simulations\n",
    "\n",
    "We assume that the system is run to its stationary state, so that the lattice Boltzmann equations define a fix-point iteration scheme:\n",
    "$$\n",
    "g_\\alpha(\\mathbf{x} + \\mathbf{c}_\\alpha) = g_\\alpha(\\mathbf{x}) - \\frac{1}{\\tau}\\left(g_\\alpha(\\mathbf{x}) - g_\\alpha^\\mathrm{eq}(\\mathbf{x})\\right) + R_\\alpha(\\mathbf{x}),\n",
    "$$\n",
    "together with the boundary conditions \n",
    "$$\n",
    "g_{\\overline{\\alpha}}(\\mathbf{x}) + g_\\alpha(\\mathbf{x}) = 2w_\\alpha x\\,\\phi_\\mathrm{b},\n",
    "$$\n",
    "We derive the adjoint method for these fix-point equations.\n",
    "\n",
    "\n",
    "### Cost function $H$\n",
    "\n",
    "Here we will simply assume that we want to obtain a given flux through the system by changing the radius of the solid.\n",
    "We have that the flux, $\\mathbf{j}_\\mathrm{diff}$, is given as\n",
    "$$\n",
    "  \\mathbf{j}_\\mathrm{diff} = \\left(1-\\frac{1}{2\\tau}\\right)\\sum_\\alpha g_\\alpha\\mathbf{c}_\\alpha\n",
    "$$\n",
    "so that \n",
    "$$\n",
    "H = \\left(\\left(\\frac{1}{|\\partial\\Omega_{\\mathrm{inlet}}|}\\sum_{\\mathbf{x}\\in\\partial\\Omega_{\\mathrm{inlet}}}j_{\\mathrm{diff},x}(\\mathbf{x})\\right) - j_{\\mathrm{target}}\\right)^2 = \\left(\\langle j_{\\mathrm{diff},x}\\rangle_{\\partial\\Omega} - j_{\\mathrm{target}}\\right)^2,\n",
    "$$\n",
    "\n",
    "### Functions"
   ]
  },
  {
   "cell_type": "markdown",
   "metadata": {},
   "source": [
    "#### ```sub2ind```"
   ]
  },
  {
   "cell_type": "markdown",
   "metadata": {},
   "source": [
    "The linear indexing is given by `sub2ind` and is calculated according to the following expression:\n",
    "\\begin{equation*}\n",
    "    \\mathtt{sub2ind({\\cdots})}\\coloneqq N_q(xN_y + y) + \\alpha,\n",
    "\\end{equation*}\n",
    "where $N_q$ is the number of lb-lattice directions, $N_y$ is the number nodes in the y-directions, $x$ and $y$ is the node position and $\\alpha$ is the lattice direction."
   ]
  },
  {
   "cell_type": "code",
   "execution_count": 57,
   "metadata": {},
   "outputs": [],
   "source": [
    "def sub2ind(alpha, sub, system_size, w):\n",
    "    pos = np.mod(sub, system_size)\n",
    "    return w.size*int(pos[0]*system_size[1] + pos[1]) + alpha\n"
   ]
  },
  {
   "attachments": {},
   "cell_type": "markdown",
   "metadata": {},
   "source": [
    "#### $\\mathrm{d}_g\\phi$\n",
    "We have that\n",
    "\\begin{equation*}\n",
    " \\mathrm{d}_g\\phi(\\mathbf{x}) = \\sum_\\alpha\\mathrm{d}g_\\alpha(\\mathbf{x})\n",
    "\\end{equation*}\n"
   ]
  },
  {
   "cell_type": "code",
   "execution_count": 58,
   "metadata": {},
   "outputs": [],
   "source": [
    "def dg_dphi(pos, w_list): \n",
    "    for alpha in np.arange(w_list.size):\n",
    "        yield 1, (alpha, pos)\n"
   ]
  },
  {
   "attachments": {},
   "cell_type": "markdown",
   "metadata": {},
   "source": [
    "#### $\\mathrm{d}_g\\mathbf{j}$\n",
    "\n",
    "\\begin{equation*}\n",
    "    \\mathrm{d}_g\\mathbf{j}(\\mathbf{x}) = \\sum_\\alpha\\mathbf{c}_\\alpha\\mathrm{d}g_\\alpha(\\mathbf{x}) \n",
    "\\end{equation*}"
   ]
  },
  {
   "cell_type": "code",
   "execution_count": 59,
   "metadata": {},
   "outputs": [],
   "source": [
    "def dg_dj(pos, c_list): \n",
    "    for alpha, c in enumerate(c_list):\n",
    "        yield c[0], (alpha, pos)\n"
   ]
  },
  {
   "attachments": {},
   "cell_type": "markdown",
   "metadata": {},
   "source": [
    "####  $\\mathrm{d}_gR_\\alpha(\\mathbf{x})\\phi$\n",
    "\n",
    "\\begin{equation*}\n",
    " \\mathrm{d}_gR_\\alpha(\\mathbf{x})\\phi = R_\\alpha(\\mathbf{x})\\mathrm{d}_g\\phi \n",
    "\\end{equation*}"
   ]
  },
  {
   "cell_type": "code",
   "execution_count": 60,
   "metadata": {},
   "outputs": [],
   "source": [
    "def dg_source(alpha, pos, source, w_list):\n",
    "    pos = np.mod(pos, source.shape[:-1])\n",
    "    tmp = source[tuple(pos) + (alpha,)]\n",
    "    for v, i in dg_dphi(pos, w_list):\n",
    "        yield tmp*v, i\n"
   ]
  },
  {
   "attachments": {},
   "cell_type": "markdown",
   "metadata": {},
   "source": [
    "#### $\\mathrm{d}_g$ collision-term\n",
    "\n",
    "\\begin{equation*}\n",
    "\\tilde{g}_\\alpha(\\mathbf{x}) = g_\\alpha(\\mathbf{x}) - \\frac{1}{\\tau}\\left(g_\\alpha(\\mathbf{x}) - g_\\alpha^\\mathrm{eq}(\\mathbf{x})\\right) +  R_\\alpha(\\mathbf{x})\\phi\n",
    "\\end{equation*}\n",
    "\n",
    "\\begin{align*}\n",
    "\\mathrm{d}_g\\tilde{g}_\\alpha(\\mathbf{x}) = \\left(1-\\frac{1}{\\tau}\\right)\\mathrm{d}_gg_\\alpha(\\mathbf{x}) + \\frac{1}{\\tau}w_\\alpha(\\mathbf{x})\\mathrm{d}_g\\phi +  \\mathrm{d}_g\\left(R_\\alpha(\\mathbf{x})\\mathrm{d}_g\\phi\\right)\n",
    "\\end{align*}\n"
   ]
  },
  {
   "cell_type": "code",
   "execution_count": 61,
   "metadata": {},
   "outputs": [],
   "source": [
    "def dg_collision(alpha, pos, tau, source, w_list): \n",
    "    yield 1-1/tau, (alpha, pos) \n",
    "    for v, i in dg_dphi(pos, w_list):\n",
    "        yield w_list[alpha]*v/tau, i\n",
    "\n",
    "    for v, i in dg_source(alpha, pos, source, w_list):\n",
    "        yield v, i\n"
   ]
  },
  {
   "attachments": {},
   "cell_type": "markdown",
   "metadata": {},
   "source": [
    "#### Calculation of $l_\\alpha(\\mathbf{x})$\n",
    "\n",
    "Definition of the system of equations for the bulk properties:\n",
    "$$\n",
    "l_\\alpha(\\mathbf{x}) = g_\\alpha(\\mathbf{x}) - \\tilde{g}_\\alpha(\\mathbf{x} - \\mathbf{c}_\\alpha) \n",
    "$$\n",
    "The variation with respect to $g$\n",
    "\\begin{align*}\n",
    "\\mathrm{d}_g l_\\alpha(\\mathbf{x}) &= \\mathrm{d}_gg_\\alpha(\\mathbf{x}) - \\mathrm{d}_g\\tilde{g}_\\alpha(\\mathbf{x}- \\mathbf{c}_\\alpha)\n",
    "\\end{align*}\n",
    "$$"
   ]
  },
  {
   "cell_type": "code",
   "execution_count": 62,
   "metadata": {},
   "outputs": [],
   "source": [
    "def dg_dl(alpha, pos, tau, source, w_list, c_list): \n",
    "    yield 1, (alpha, pos) \n",
    "    for v, i in dg_collision(alpha, pos-c_list[alpha], tau, source, w_list):\n",
    "        yield -v, i\n"
   ]
  },
  {
   "attachments": {},
   "cell_type": "markdown",
   "metadata": {},
   "source": [
    "For the bounce back we have that \n",
    "$$\n",
    "l_\\alpha(\\mathrm{x}) = g_{\\overline{\\alpha}}(\\mathbf{x}) + g_\\alpha(\\mathbf{x}) - 2w_\\alpha x\\,\\phi_\\mathrm{b},\n",
    "$$\n",
    "and \n",
    "$$\n",
    "\\mathrm{d}_gl_\\alpha(\\mathrm{x}) = \\mathrm{d}g_{\\overline{\\alpha}}(\\mathbf{x}) + \\mathrm{d}g_\\alpha(\\mathbf{x}),\n",
    "$$"
   ]
  },
  {
   "cell_type": "code",
   "execution_count": 63,
   "metadata": {},
   "outputs": [],
   "source": [
    "def dg_dl_boundary(alpha, pos, alpha_hat): \n",
    "    yield 1, (alpha, pos)\n",
    "    yield 1, (alpha_hat[alpha], pos)\n"
   ]
  },
  {
   "attachments": {},
   "cell_type": "markdown",
   "metadata": {},
   "source": [
    "### $\\mathrm{d}_g H$\n",
    "\n",
    "$$\n",
    "\\mathrm{d}_g H = 2\\left(\\langle j_{\\mathrm{diff},x}\\rangle_{\\partial\\Omega} - j_{\\mathrm{target}}\\right)\\frac{\\left(1-\\frac{1}{2\\tau}\\right)}{|\\partial\\Omega_{\\mathrm{inlet}}|}\\sum_{\\mathbf{x}\\in\\partial\\Omega_{\\mathrm{inlet}}}\\mathrm{d}_gj_x(\\mathbf{x})\n",
    "$$"
   ]
  },
  {
   "cell_type": "code",
   "execution_count": 64,
   "metadata": {},
   "outputs": [],
   "source": [
    "def dg_dH(pos, tau, flux, flux_target, c_list, system_size): \n",
    "    a = 2*(flux-flux_target)*(tau-0.5)/tau/system_size[1]\n",
    "    for v, i in dg_dj(pos, c_list):\n",
    "        yield a*v, i\n"
   ]
  },
  {
   "attachments": {},
   "cell_type": "markdown",
   "metadata": {},
   "source": [
    "#### $\\mathrm{d}_R R_\\alpha\\phi$\n",
    "\n",
    "This variation is introduced through the $x$ function, as \n",
    "$$\n",
    "\\mathrm{d}_Rx = \\frac{1}{2}\\left(\\tanh^2\\left(d/\\xi\\right)-1\\right)\\mathrm{d}_Rd = \\frac{2}{\\xi}(1-x)x\\,\\mathrm{d}_Rd\n",
    "$$"
   ]
  },
  {
   "attachments": {},
   "cell_type": "markdown",
   "metadata": {},
   "source": [
    "The disc shaped boundary is given by\n",
    "$$\n",
    "d = R - \\sqrt{\\mathbf{x}\\cdot\\mathbf{x}},\n",
    "$$\n",
    "so that \n",
    "$$\n",
    "\\mathrm{d}_Rd = 1\n",
    "$$\n"
   ]
  },
  {
   "attachments": {},
   "cell_type": "markdown",
   "metadata": {},
   "source": [
    "For the bulk we have that\n",
    "$$\n",
    " \\mathrm{d}_R R_\\alpha\\phi= w_\\alpha\\beta_s\\frac{\\mathbf{c}_\\alpha\\cdot\\mathbf{n}}{|\\mathbf{c}_\\alpha|}\\phi\\frac{2}{\\xi}(x-1)x\\ = \\frac{2x}{\\xi}R_\\alpha\\phi\\mathrm{d}R\n",
    "$$"
   ]
  },
  {
   "cell_type": "code",
   "execution_count": 65,
   "metadata": {},
   "outputs": [],
   "source": [
    "def dR_source(alpha, pos, xi, phi, x, source):\n",
    "    pos = np.mod(pos, source.shape[:-1])\n",
    "    tmp = source[tuple(pos) + (alpha,)]\n",
    "    sub = tuple(pos)\n",
    "    ind = sub + (alpha,)\n",
    "    return 2*source[ind]*x[sub]*phi[sub]/xi\n"
   ]
  },
  {
   "attachments": {},
   "cell_type": "markdown",
   "metadata": {},
   "source": [
    "### $\\mathrm{d}_R l_\\alpha$\n",
    "\n",
    "The variation of the collision term is equal to the variation the source, and the variation of $l_\\alpha(\\mathbf{x})$ is\n",
    "\\begin{equation*}\n",
    "\\mathrm{d}_Rl_\\alpha(\\mathbf{x}) = -\\frac{2x}{\\xi}(\\mathrm{x}-\\mathrm{c}_\\alpha)R_\\alpha(\\mathrm{x}-\\mathrm{c}_\\alpha)\\phi(\\mathrm{x}-\\mathrm{c}_\\alpha)\\mathrm{d}R\n",
    "\\end{equation*}"
   ]
  },
  {
   "cell_type": "code",
   "execution_count": 66,
   "metadata": {},
   "outputs": [],
   "source": [
    "def dR_collision(alpha, pos, xi, phi, x, source):\n",
    "    return dR_source(alpha, pos, xi, phi, x, source)\n",
    "\n",
    "def dR_dl(alpha, pos, xi, phi, x, source, c_list):\n",
    "    return -dR_collision(alpha, pos-c_list[alpha], xi, phi, x, source)\n"
   ]
  },
  {
   "attachments": {},
   "cell_type": "markdown",
   "metadata": {},
   "source": [
    "### Calculate $\\partial L/\\partial p_\\alpha$\n",
    "\n",
    "Now we need to fill the matrixes for the calculation of the $\\lambda$'s\n",
    "$$\n",
    "    \\frac{\\partial H}{\\partial x_\\beta} + \\sum_\\gamma\\lambda_\\gamma\\frac{\\partial l_\\gamma}{\\partial x_\\beta} = 0,\n",
    "$$ \n",
    "We can write this on the standard from:\n",
    "$$\n",
    "M_{\\beta\\gamma}\\lambda_\\gamma = y_\\beta,\n",
    "$$\n",
    "where \n",
    "\\begin{align*}\n",
    "M_{\\beta\\gamma} &= \\frac{\\partial l_\\gamma}{\\partial x_\\beta} \\\\\n",
    "y_\\beta &= -\\frac{\\partial H}{\\partial x_\\beta}.\n",
    "\\end{align*}\n",
    "When the Lagrange multiplier are found we can find the variation of $L$ as\n",
    "\\begin{equation*}\n",
    "\\frac{\\partial L}{\\partial p_\\alpha} = \\frac{\\partial H}{\\partial p_\\alpha} + \\sum_\\gamma\\lambda_\\gamma\\frac{\\partial l_\\gamma}{\\partial p_\\alpha}\n",
    "\\end{equation*}"
   ]
  },
  {
   "cell_type": "code",
   "execution_count": 67,
   "metadata": {},
   "outputs": [],
   "source": [
    "#def adjoint_method(R, tau, xi, phi, j, j_target, w_list, c_list, alpha_hat):\n",
    "def adjoint_method(R, phi, j,  j_target, xi, tau, w_list, c_list, alpha_hat):\n",
    "    # Setup system size\n",
    "    system_size = phi.shape\n",
    "\n",
    "    source, x_indicator = source_term(R, tau, xi, w_list, c_list, system_size)\n",
    "\n",
    "    N = 9*np.prod(system_size)\n",
    "\n",
    "    M = lil_matrix((N, N))\n",
    "    b = np.zeros((N,))\n",
    "    dRdl = np.zeros((N,)) \n",
    "\n",
    "    for x in np.arange(1, 20):\n",
    "        for y in np.arange(21):\n",
    "            pos = np.array([x, y], dtype=int)\n",
    "            for alpha in np.arange(len(w_list)):\n",
    "                n = sub2ind(alpha, pos, system_size, w_list)\n",
    "                dRdl[n] = dR_dl(alpha, pos, xi, phi, x_indicator, source, c_list)\n",
    "                for v, i in dg_dl(alpha, pos, tau, source, w_list, c_list):\n",
    "                    m = sub2ind(*i, system_size, w_list)\n",
    "                    M[m, n] += v\n",
    "\n",
    "\n",
    "    # Add boundary conditions\n",
    "    # -- left hand side\n",
    "    for y in np.arange(21):\n",
    "        pos = np.array([0, y], dtype=int)\n",
    "        for v, i in dg_dH(pos, tau, j, j_target, c_list, system_size):\n",
    "            m = sub2ind(*i, system_size, w_list)\n",
    "            b[m] -= v\n",
    "        for alpha in np.arange(len(w_list)):\n",
    "            n = sub2ind(alpha, pos, system_size, w_list)\n",
    "            if alpha in [1, 5, 7]:\n",
    "                for v, i in  dg_dl_boundary(alpha, pos, alpha_hat):\n",
    "                    m = sub2ind(*i, system_size, w_list)\n",
    "                    M[m, n] += v\n",
    "            else:\n",
    "                dRdl[n] = dR_dl(alpha, pos, xi, phi, x_indicator, source, c_list)\n",
    "                for v, i in dg_dl(alpha, pos, tau, source, w_list, c_list):\n",
    "                    m = sub2ind(*i, system_size, w_list)\n",
    "                    M[m, n] += v\n",
    "    # -- right hand side.\n",
    "    for y in np.arange(21):\n",
    "        pos = np.array([20, y], dtype=int)\n",
    "        for alpha in np.arange(len(w_list)):\n",
    "            n = sub2ind(alpha, pos, system_size, w_list)\n",
    "            if alpha in [2, 6, 8]:\n",
    "                for v, i in dg_dl_boundary(alpha, pos, alpha_hat):\n",
    "                    m = sub2ind(*i, system_size, w_list)\n",
    "                    M[m, n] += v\n",
    "            else:\n",
    "                dRdl[n] = dR_dl(alpha, pos, xi, phi, x_indicator, source, c_list)\n",
    "                for v, i in dg_dl(alpha, pos, tau, source, w_list, c_list):\n",
    "                    m = sub2ind(*i, system_size, w_list)\n",
    "                    M[m, n] += v\n",
    "\n",
    "    M = M.tocsr()\n",
    "    lambda_l = spsolve(M, b) # Lagrange multiplicator\n",
    "\n",
    "    return dRdl.dot(lambda_l)\n"
   ]
  },
  {
   "attachments": {},
   "cell_type": "markdown",
   "metadata": {},
   "source": [
    "### Test of the adjoint method for calculating the derivative $H$ with regard to $R$\n",
    "\n",
    "Here we will calculate the partial derivative of the $H$ using the adjoint method and compare it to the direction numerical calculation where we will simulate two systems one with $R$ and one with $R+\\mathrm{d}R$ and approximate the derivative of $H$ as\n",
    "\\begin{equation*}\n",
    "\\frac{\\partial H}{\\partial R}\\approx \\frac{H(R+\\mathrm{d}R) - H(R)}{\\mathrm{d}R}\n",
    "\\end{equation*}\n"
   ]
  },
  {
   "cell_type": "code",
   "execution_count": 68,
   "metadata": {},
   "outputs": [],
   "source": [
    "if __name__ == \"__main__\":\n",
    "    # Lattice\n",
    "    c_list = [np.array(c, dtype=int) for c in [\n",
    "        (0, 0),\n",
    "        (1, 0), (-1, 0), (0, 1), (0, -1),\n",
    "        (1, 1), (-1, -1), (1, -1), (-1, 1)\n",
    "        ]]\n",
    "    w_list = np.array((4/9,) + 4*(1/9,) + 4*(1/36,))\n",
    "    alpha_reverse = np.array( [0, 2, 1, 4, 3, 6, 5, 8, 7])\n",
    "\n",
    "    # Input\n",
    "    tau_input = 0.7\n",
    "    lhs = 1\n",
    "    rhs = 0\n",
    "    number_of_iterations = 2000\n",
    "    system_size = (21, 21)\n",
    "\n",
    "    xi = 0.8\n",
    "    j_max = (tau_input - 0.5)/3/(system_size[0] - 1)\n",
    "    j_target = 0.0022871\n",
    "    number_of_containers = 10\n",
    "\n",
    "    # Containers for plots\n",
    "    dH_adjoint = np.zeros(number_of_containers)\n",
    "    dH_sim = np.zeros(number_of_containers)\n",
    "    R_x = np.zeros(number_of_containers)\n",
    "\n",
    "    # Parameter list for 'run_simulation'\n",
    "    rs_param = (xi, tau_input, w_list, c_list, alpha_reverse, number_of_iterations, system_size)\n",
    "\n",
    "    for n, R in enumerate(np.linspace(1, 7, number_of_containers)):\n",
    "        # Adjoint method\n",
    "        start_time = time_ns()\n",
    "        phi, j = run_system(lhs, rhs, R, *rs_param)\n",
    "        print(\"run_system = \", (time_ns() - start_time)/1e9, \" s\")\n",
    "        start_time = time_ns()\n",
    "    #    dH_dR = adjoint_method(R, tau_input, xi, phi, j, j_target, w_list, c_list, alpha_reverse)\n",
    "        dH_dR = adjoint_method(R, phi, j, j_target, xi, tau_input, w_list, c_list, alpha_reverse)\n",
    "        print(\"adjoint_method = \", (time_ns() - start_time)/1e9, \" s\")        \n",
    "        dH_adjoint[n] = dH_dR\n",
    "\n",
    "        # Direct numerical estimate of the variation\n",
    "        H0 = (j-j_target)**2\n",
    "        dx = 0.01\n",
    "        start_time = time_ns()\n",
    "        phi1, j1 = run_system(lhs, rhs, R + dx, *rs_param)\n",
    "        print(\"run_system (2nd run) = \", (time_ns() - start_time)/1e9, \" s\")    \n",
    "        print(\"---------------------------------------------\")    \n",
    "        H1 = (j1-j_target)**2\n",
    "\n",
    "        # Update data container\n",
    "        R_x[n] = R\n",
    "        dH_sim[n] = (H1-H0)/dx\n",
    "\n",
    "\n",
    "    plt.figure()\n",
    "    plt.plot(R_x, dH_adjoint, '-', label=\"adjoint\")\n",
    "    plt.plot(R_x, dH_sim, '--', label=\"simulation\")\n",
    "    plt.legend()\n",
    "    plt.show()\n"
   ]
  },
  {
   "cell_type": "markdown",
   "metadata": {},
   "source": [
    "## Optimization algorithm\n",
    "\n",
    "Implementation of the minimization algorithm. Here we will set $\\alpha>0$ to a constant such that \n",
    "\\begin{equation*}\n",
    "   \\left|\\alpha\\frac{\\partial L}{\\partial R}(R_0)\\right| = 1\n",
    "\\end{equation*} "
   ]
  },
  {
   "cell_type": "code",
   "execution_count": 69,
   "metadata": {},
   "outputs": [
    {
     "name": "stdout",
     "output_type": "stream",
     "text": [
      "test\n"
     ]
    }
   ],
   "source": [
    "if  __name__ == \"__main__\" and False:\n",
    "    c_list = [np.array(c, dtype=int) for c in [\n",
    "        (0, 0),\n",
    "        (1, 0), (-1, 0), (0, 1), (0, -1),\n",
    "        (1, 1), (-1, -1), (1, -1), (-1, 1)\n",
    "        ]]\n",
    "    w_list = np.array((4/9,) + 4*(1/9,) + 4*(1/36,))\n",
    "    alpha_reverse = np.array( [0, 2, 1, 4, 3, 6, 5, 8, 7])\n",
    "\n",
    "    # Input\n",
    "    tau_input = 0.7\n",
    "    lhs = 1\n",
    "    rhs = 0\n",
    "    number_of_iterations = 2000\n",
    "    system_size = (21, 21)\n",
    "\n",
    "    xi = 0.8\n",
    "    j_max = (tau_input - 0.5)/3/(system_size[0] - 1)\n",
    "    j_target = 0.0022871\n",
    "\n",
    "    # Parameter list for 'run_simulation'\n",
    "    #rs_param = (xi, tau_input, w_list, c_list, alpha_reverse, number_of_iterations, system_size)\n",
    "    # Parameter list for 'adjoint_method'\n",
    "    #am_param = tau_input, xi, phi, j, j_target, w_list, c_list, alpha_reverse\n"
   ]
  }
 ],
 "metadata": {
  "kernelspec": {
   "display_name": "PythonScripts",
   "language": "python",
   "name": "python3"
  },
  "language_info": {
   "codemirror_mode": {
    "name": "ipython",
    "version": 3
   },
   "file_extension": ".py",
   "mimetype": "text/x-python",
   "name": "python",
   "nbconvert_exporter": "python",
   "pygments_lexer": "ipython3",
   "version": "3.8.10"
  },
  "orig_nbformat": 4
 },
 "nbformat": 4,
 "nbformat_minor": 2
}
