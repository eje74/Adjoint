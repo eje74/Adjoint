{
 "cells": [
  {
   "cell_type": "code",
   "execution_count": 1,
   "metadata": {},
   "outputs": [],
   "source": [
    "import numpy as np\n",
    "import matplotlib.pyplot as plt\n",
    "\n",
    "from scipy.sparse import lil_matrix\n",
    "from scipy.sparse.linalg import spsolve\n",
    "\n",
    "from time import time_ns\n"
   ]
  },
  {
   "attachments": {},
   "cell_type": "markdown",
   "metadata": {},
   "source": [
    "# Adjoint methods\n",
    "## Background\n",
    "We will assume that we have  a set of \"free\"/design parameters that we can use for optimization, $p_\\alpha$,  variables that are updated by our numerical code, $x_\\beta$, and  a function the we want to optimize, $H(p_\\alpha, x_\\beta)$.\n",
    "\n",
    "Here we will treat the adjoint method simply as a way to calculate the variation in $H$ with respect to the design parameters.\n",
    "\n",
    "Since we know that the $x_\\beta$'s follows the $l_\\gamma$'s we can the we can add these as Lagrange multiplier without affecting the variation, meaning that \n",
    "\\begin{equation*}\n",
    "    \\mathrm{d}L = \\mathrm{d}H + \\sum_\\gamma\\lambda_\\gamma\\mathrm{d}l_\\gamma,\n",
    "\\end{equation*}\n",
    "will give the same minimum as $\\mathrm{d}H = 0$.\n",
    "\n",
    "The point now is to choose the $\\lambda$'s so that we remove the $\\mathrm{d}x_\\beta$-dependence from the variation.\n",
    "\\begin{align*}\n",
    "    \\mathrm{d}L &= \\sum_\\alpha\\frac{\\partial H}{\\partial p_\\alpha}\\mathrm{d}p_\\alpha + \\sum_\\beta\\frac{\\partial H}{\\partial x_\\beta}\\mathrm{d}x_\\beta + \\sum_\\gamma\\lambda_\\gamma\\left(\\sum_\\alpha\\frac{\\partial l_\\gamma}{\\partial p_\\alpha}\\mathrm{d}p_\\alpha + \\sum_\\beta\\frac{\\partial l_\\gamma}{\\partial x_\\beta}\\mathrm{d}x_\\beta\\right) \\\\\n",
    "    &= \\sum_\\alpha\\left(\\frac{\\partial H}{\\partial p_\\alpha} + \\sum_\\gamma\\lambda_\\gamma\\frac{\\partial l_\\gamma}{\\partial p_\\alpha}\\right)\\mathrm{d}p_\\alpha + \\sum_\\beta\\left(\\frac{\\partial H}{\\partial x_\\beta} + \\sum_\\gamma\\lambda_\\gamma\\frac{\\partial l_\\gamma}{\\partial x_\\beta}\\right)\\mathrm{d}x_\\beta.\n",
    "\\end{align*}\n",
    "We can now choose the $\\lambda$'s so that \n",
    "$$\n",
    "    \\frac{\\partial H}{\\partial x_\\beta} + \\sum_\\gamma\\lambda_\\gamma\\frac{\\partial l_\\gamma}{\\partial x_\\beta} = 0,\n",
    "$$ \n",
    "and we are left with\n",
    "\\begin{equation*}\n",
    "\\mathrm{d}L = \\sum_\\alpha\\left(\\frac{\\partial H}{\\partial p_\\alpha} + \\sum_\\gamma\\lambda_\\gamma\\frac{\\partial l_\\gamma}{\\partial p_\\alpha}\\right)\\mathrm{d}p_\\alpha.\n",
    "\\end{equation*}\n",
    "The challenge is to setup and solve the set of equations for the Lagrange multipliers."
   ]
  },
  {
   "attachments": {},
   "cell_type": "markdown",
   "metadata": {},
   "source": [
    "# Diffusion\n",
    "The equation we solve is the simple diffusion equation\n",
    "\\begin{align*}\n",
    "\\frac{\\partial \\phi}{\\partial t} = \\nabla\\left(D\\nabla\\phi\\right),\n",
    "\\end{align*}\n",
    "and \n",
    "$$\n",
    "\\mathbf{n}\\cdot\\nabla\\phi = 0,\n",
    "$$\n",
    "for the solid boundaries and\n",
    "$$\n",
    " \\phi(\\mathbf{x}, t) = h(\\mathbf{x}),\n",
    "$$\n",
    "for the \"inlet\" and \"outlet\" boundaries.\n",
    "\n",
    "## Lattice Boltzmann\n",
    "We will setup an LB simulation where we add a parameter to fix the flux, so that we can easily implement an immersed boundary methods for the zero flux Neumann boundary conditions. The immersed boundary method was taken from the multi-phase lattice Boltzmann solver from A. Riaud et al. [Phys. Rev. E 89, 053308 (2014)].\n",
    "\\begin{align*}\n",
    " g_\\alpha(\\mathbf{x} + \\mathbf{c}_\\alpha, t + 1) &= g_\\alpha(\\mathbf{x}, t) - \\frac{1}{\\tau}\\left(g_\\alpha(\\mathbf{x}, t) - g_\\alpha^\\mathrm{eq}(\\mathbf{x}, t)\\right) + w_\\alpha \\beta_s(x-1)\\phi\\frac{\\mathbf{c}_\\alpha\\cdot\\mathbf{n}}{|\\mathbf{c}_\\alpha|} \\\\\n",
    " &= g_\\alpha(\\mathbf{x}, t) - \\frac{1}{\\tau}\\left(g_\\alpha(\\mathbf{x}, t) - g_\\alpha^\\mathrm{eq}(\\mathbf{x}, t)\\right) + R_\\alpha(\\mathbf{x})\\phi\n",
    "\\end{align*}\n",
    "where $g_\\alpha^\\mathrm{eq} = w_\\alpha\\phi$, and\n",
    "$$\n",
    "\\lambda_s = \\frac{\\tau\\beta_sk\\xi}{D}.\n",
    "$$\n",
    "The $k$ is defined by the expression\n",
    "$$\n",
    "2k\\delta_{ij} = \\sum_\\alpha w_\\alpha\\frac{c_{\\alpha i}c_{\\alpha j}}{|\\mathbf{c}_\\alpha|}.\n",
    "$$\n",
    "For d2q9 $k \\approx 0.150$.  $\\lambda_s$ seems to be treated as a \"sort of\" free parameter but seems to bo chosen as $\\lambda_s = 1$ for examples when a diffusive field is restricted to just one region.\n",
    "\n",
    "$\\xi$ is defined by the width of the surface witch is given by\n",
    "$$\n",
    "x = 1/2\\left(1 - \\tanh(d/\\xi)\\right),\n",
    "$$\n",
    "where $d$ is the signed distance function, $d < 0$ defines the domain.\n",
    "\n",
    "### Boundary condition (left and right hand side)\n",
    "Here we use a simple bounce back to set the inlet and outlet concentrations:\n",
    "$$\n",
    "g_{\\overline{\\alpha}} + g_\\alpha = 2w_\\alpha\\phi_\\mathrm{b},\n",
    "$$ \n",
    "where $\\mathbf{c}_{\\overline{\\alpha}} = - \\mathbf{c}_\\alpha$ and $\\phi_\\mathrm{b}$ is the constant we chose as our boundary concentration.\n",
    "\n",
    "### Boundary condition (top bottom)\n",
    "Periodic\n"
   ]
  },
  {
   "attachments": {},
   "cell_type": "markdown",
   "metadata": {},
   "source": [
    "\n",
    "## The LB scheme\n",
    "\n"
   ]
  },
  {
   "attachments": {},
   "cell_type": "markdown",
   "metadata": {},
   "source": [
    "### Functions\n",
    "#### Geometry\n",
    "The `make_geometry` function generates the signed distance function for a disk with radius `R` and `normals_from_scalar_field` calculates the normalized gradient field from a scalar field (which will give us the surface normals used in the LB scheme)"
   ]
  },
  {
   "cell_type": "code",
   "execution_count": 2,
   "metadata": {},
   "outputs": [],
   "source": [
    "def make_geometry(R, system_size):\n",
    "    X, Y = np.mgrid[:system_size[0], :system_size[1]]\n",
    "    X = X-(system_size[0])/2\n",
    "    Y = Y-(system_size[1])/2\n",
    "    return R - np.sqrt( X**2 + Y**2 )\n",
    "\n",
    "def normals_from_scalar_field(phi):\n",
    "    N = np.zeros( system_size + (phi.ndim,))\n",
    "    for dim in np.arange(phi.ndim):\n",
    "        # Derivative for bulk values\n",
    "        ind_bulk = (slice(None),)*dim + (slice(1, -1), ) + (slice(None),)*(phi.ndim - dim - 1)\n",
    "        ind_plus = (slice(None),)*dim + (slice(2, None), ) + (slice(None),)*(phi.ndim - dim - 1)\n",
    "        ind_minus = (slice(None),)*dim + (slice(0, -2), ) + (slice(None),)*(phi.ndim - dim - 1)\n",
    "        N[ind_bulk + (dim,)] = 0.5*(phi[ind_plus] - phi[ind_minus])\n",
    "        # Derivative for the left hand boundary\n",
    "        ind_bulk = (slice(None),)*dim + (0, ) + (slice(None),)*(phi.ndim - dim - 1)\n",
    "        ind_plus = (slice(None),)*dim + (1, ) + (slice(None),)*(phi.ndim - dim - 1)\n",
    "        N[ind_bulk + (dim,)] = (phi[ind_plus] - phi[ind_bulk])\n",
    "        # Derivative for the right hand boundary\n",
    "        ind_bulk = (slice(None),)*dim + (-1, ) + (slice(None),)*(phi.ndim - dim - 1)\n",
    "        ind_minus = (slice(None),)*dim + (-2, ) + (slice(None),)*(phi.ndim - dim - 1)\n",
    "        N[ind_bulk + (dim,)] = (phi[ind_bulk] - phi[ind_minus])\n",
    "    N /= np.sqrt( np.sum(N**2, axis=-1, keepdims=True) ) + 1e-10\n",
    "    return N\n"
   ]
  },
  {
   "attachments": {},
   "cell_type": "markdown",
   "metadata": {},
   "source": [
    "#### Propagation\n",
    "These two functions is used for the propagation step in the LB method. They will automatically enforce periodic boundary conditions:"
   ]
  },
  {
   "cell_type": "code",
   "execution_count": 3,
   "metadata": {},
   "outputs": [],
   "source": [
    "def circ_shift(valin, c_input):\n",
    "    valout = valin\n",
    "    for d, c in enumerate(c_input):\n",
    "        valout = np.roll(valout, c, axis=d)\n",
    "    return valout\n",
    "\n",
    "def propagate(f, c_input):\n",
    "    for q, c in enumerate(c_input):\n",
    "        f[..., q] = circ_shift(f[..., q], c)\n",
    "    return f\n",
    " "
   ]
  },
  {
   "attachments": {},
   "cell_type": "markdown",
   "metadata": {},
   "source": [
    "\n",
    "#### Source term\n",
    "`source_term`  returns the source term $R_\\alpha$ and the indicator function, $x$.  These are used to enforce the internal zero gradient boundary."
   ]
  },
  {
   "cell_type": "code",
   "execution_count": 4,
   "metadata": {},
   "outputs": [],
   "source": [
    "def source_term(R, tau, xi, w, c, system_size):\n",
    "    # set up solid geometry\n",
    "    d = make_geometry(R, system_size)  # Signed distance\n",
    "    N = normals_from_scalar_field(d)  # Normal vectors\n",
    "    x = 0.5*(1-np.tanh(d/xi)) # Indicator function\n",
    "    # Setup the source term\n",
    "    c = np.array(c)\n",
    "    c_norm = np.sqrt(np.sum(c**2, axis=-1)) + 10*np.finfo(float).eps\n",
    "    k = np.sum(w*c_norm)/2/len(system_size)\n",
    "    lambda_s = 1\n",
    "    D = (tau - 0.5)/3\n",
    "    beta = lambda_s*D/(tau*k*xi)\n",
    "    # broadcasting logic \n",
    "    # N   : ni x nj (x 1) x nd \n",
    "    # c   :         x nq  x nd\n",
    "    # c*N : ni x nj x nq\n",
    "    # w   :           nq\n",
    "    # x   : ni x nj(x  1)\n",
    "    #|c|  :           nq \n",
    "    #  =  : ni x nj x nq\n",
    "    boundary_source = w*beta*(x[..., np.newaxis] - 1)*np.sum(c*N[..., np.newaxis, :], axis=-1)/c_norm\n",
    "\n",
    "    return boundary_source, x\n"
   ]
  },
  {
   "attachments": {},
   "cell_type": "markdown",
   "metadata": {},
   "source": [
    "#### Simulation\n",
    "Function for simulating the complete diffusion process"
   ]
  },
  {
   "cell_type": "code",
   "execution_count": 5,
   "metadata": {},
   "outputs": [],
   "source": [
    "def run_system(lhs, rhs, R, xi, tau, w, c, alpha_rev, number_of_iterations, system_size):\n",
    "    rho0 = (lhs + rhs)/2\n",
    "\n",
    "    boundary_source, x = source_term(R, tau, xi, w, c, system_size)\n",
    "\n",
    "    g = np.zeros(system_size + (w.size,))\n",
    "    # bulk\n",
    "    g[1:-1, ...] = w*rho0*x[1:-1, ...,np.newaxis] \n",
    "    # lhs\n",
    "    g[0, ...] = w*lhs*x[0, ..., np.newaxis]\n",
    "    # lhs\n",
    "    g[-1, ...] = w*rhs*x[-1, ..., np.newaxis]\n",
    "\n",
    "\n",
    "    # Main loop\n",
    "    for itr in np.arange(number_of_iterations):\n",
    "        # Density\n",
    "        # -- keepdims=True, broadcasting logic\n",
    "        #    phi    ni x nj (x  1)\n",
    "        #    w                nq\n",
    "        #    w*phi  ni x nj x nq\n",
    "        phi = np.sum(g, axis=-1, keepdims=True)\n",
    "        # collision\n",
    "        g = propagate(\n",
    "             g - 1/tau*(g - w*phi) + boundary_source*phi,\n",
    "            c)\n",
    "        # boundary condition\n",
    "        # -- left hand side\n",
    "        for alpha in [1, 5, 7]:\n",
    "            g[0, :, alpha] = 2*w[alpha]*lhs - g[0, :, alpha_rev[alpha]]\n",
    "        # -- right hand side\n",
    "        for alpha in [2, 6, 8]:\n",
    "            g[-1, :, alpha] = 2*w[alpha]*rhs - g[-1, :, alpha_rev[alpha]]\n",
    "\n",
    "    # Calculate first moment of the distribution (at the left hand side)\n",
    "    # -- newaxis broadcasting\n",
    "    #    g    ni x nj x nq (x 1)\n",
    "    #    c              nq x nd\n",
    "    Mi = np.sum(g[0, ..., np.newaxis]*c, axis=-2)    \n",
    "\n",
    "    # Need to reshape phi from (ni,nj,1) to (ni,nj) \n",
    "    return phi.reshape(system_size), (tau-0.5)/tau*np.sum(Mi[:,0])/system_size[1] \n"
   ]
  },
  {
   "attachments": {},
   "cell_type": "markdown",
   "metadata": {},
   "source": [
    "## Adjoint method\n",
    "\n",
    "### Time independent LB simulations\n",
    "\n",
    "We assume that the system is run to its stationary state, so that the lattice Boltzmann equations define a fix-point iteration scheme:\n",
    "$$\n",
    "g_\\alpha(\\mathbf{x} + \\mathbf{c}_\\alpha) = g_\\alpha(\\mathbf{x}) - \\frac{1}{\\tau}\\left(g_\\alpha(\\mathbf{x}) - g_\\alpha^\\mathrm{eq}(\\mathbf{x})\\right) + R_\\alpha(\\mathbf{x}),\n",
    "$$\n",
    "together with the boundary conditions \n",
    "$$\n",
    "g_{\\overline{\\alpha}}(\\mathbf{x}) + g_\\alpha(\\mathbf{x}) = 2w_\\alpha x\\,\\phi_\\mathrm{b},\n",
    "$$\n",
    "We derive the adjoint method for these fix-point equations.\n",
    "\n",
    "\n",
    "### Cost function $H$\n",
    "\n",
    "Here we will simply assume that we want to obtain a given flux through the system by changing the radius of the solid.\n",
    "We have that the flux, $\\mathbf{j}_\\mathrm{diff}$, is given as\n",
    "$$\n",
    "  \\mathbf{j}_\\mathrm{diff} = \\left(1-\\frac{1}{2\\tau}\\right)\\sum_\\alpha g_\\alpha\\mathbf{c}_\\alpha\n",
    "$$\n",
    "so that \n",
    "$$\n",
    "H = \\left(\\left(\\frac{1}{|\\partial\\Omega_{\\mathrm{inlet}}|}\\sum_{\\mathbf{x}\\in\\partial\\Omega_{\\mathrm{inlet}}}j_{\\mathrm{diff},x}(\\mathbf{x})\\right) - j_{\\mathrm{target}}\\right)^2 = \\left(\\langle j_{\\mathrm{diff},x}\\rangle_{\\partial\\Omega} - j_{\\mathrm{target}}\\right)^2,\n",
    "$$\n",
    "\n",
    "### Functions"
   ]
  },
  {
   "attachments": {},
   "cell_type": "markdown",
   "metadata": {},
   "source": [
    "#### $\\mathrm{d}_g\\phi$\n",
    "We have that\n",
    "\\begin{equation*}\n",
    " \\mathrm{d}_g\\phi(\\mathbf{x}) = \\sum_\\alpha\\mathrm{d}g_\\alpha(\\mathbf{x})\n",
    "\\end{equation*}\n"
   ]
  },
  {
   "cell_type": "code",
   "execution_count": 6,
   "metadata": {},
   "outputs": [],
   "source": [
    "def dg_dphi(pos, w_list): \n",
    "    for alpha in np.arange(w_list.size):\n",
    "        yield 1, (alpha, pos)\n"
   ]
  },
  {
   "attachments": {},
   "cell_type": "markdown",
   "metadata": {},
   "source": [
    "#### $\\mathrm{d}_g\\mathbf{j}$\n",
    "\n",
    "\\begin{equation*}\n",
    "    \\mathrm{d}_g\\mathbf{j}(\\mathbf{x}) = \\sum_\\alpha\\mathbf{c}_\\alpha\\mathrm{d}g_\\alpha(\\mathbf{x}) \n",
    "\\end{equation*}"
   ]
  },
  {
   "cell_type": "code",
   "execution_count": 7,
   "metadata": {},
   "outputs": [],
   "source": [
    "def dg_dj(pos, c_list): \n",
    "    for alpha, c in enumerate(c_list):\n",
    "        yield c[0], (alpha, pos)\n"
   ]
  },
  {
   "attachments": {},
   "cell_type": "markdown",
   "metadata": {},
   "source": [
    "####  $\\mathrm{d}_gR_\\alpha(\\mathbf{x})\\phi$\n",
    "\n",
    "\\begin{equation*}\n",
    " \\mathrm{d}_gR_\\alpha(\\mathbf{x})\\phi = R_\\alpha(\\mathbf{x})\\mathrm{d}_g\\phi \n",
    "\\end{equation*}"
   ]
  },
  {
   "cell_type": "code",
   "execution_count": 8,
   "metadata": {},
   "outputs": [],
   "source": [
    "def dg_source(alpha, pos, source, w_list):\n",
    "    pos = np.mod(pos, source.shape[:-1])\n",
    "    tmp = source[tuple(pos) + (alpha,)]\n",
    "    for v, i in dg_dphi(pos, w_list):\n",
    "        yield tmp*v, i\n"
   ]
  },
  {
   "attachments": {},
   "cell_type": "markdown",
   "metadata": {},
   "source": [
    "#### $\\mathrm{d}_g$ collision-term\n",
    "\n",
    "\\begin{equation*}\n",
    "\\tilde{g}_\\alpha(\\mathbf{x}) = g_\\alpha(\\mathbf{x}) - \\frac{1}{\\tau}\\left(g_\\alpha(\\mathbf{x}) - g_\\alpha^\\mathrm{eq}(\\mathbf{x})\\right) +  R_\\alpha(\\mathbf{x})\\phi\n",
    "\\end{equation*}\n",
    "\n",
    "\\begin{align*}\n",
    "\\mathrm{d}_g\\tilde{g}_\\alpha(\\mathbf{x}) = \\left(1-\\frac{1}{\\tau}\\right)\\mathrm{d}_gg_\\alpha(\\mathbf{x}) + \\frac{1}{\\tau}w_\\alpha(\\mathbf{x})\\mathrm{d}_g\\phi +  \\mathrm{d}_g\\left(R_\\alpha(\\mathbf{x})\\mathrm{d}_g\\phi\\right)\n",
    "\\end{align*}\n"
   ]
  },
  {
   "cell_type": "code",
   "execution_count": null,
   "metadata": {},
   "outputs": [],
   "source": [
    "def dg_collision(alpha, pos, tau, source, w_list): \n",
    "    yield 1-1/tau, (alpha, pos) \n",
    "    for v, i in dg_dphi(pos, w_list):\n",
    "        yield w_list[alpha]*v/tau, i\n",
    "\n",
    "    for v, i in dg_source(alpha, pos, source, w_list):\n",
    "        yield v, i\n"
   ]
  },
  {
   "attachments": {},
   "cell_type": "markdown",
   "metadata": {},
   "source": [
    "#### Calculation of $l_\\alpha(\\mathbf{x})$\n",
    "\n",
    "Definition of the system of equations for the bulk properties:\n",
    "$$\n",
    "l_\\alpha(\\mathbf{x}) = g_\\alpha(\\mathbf{x}) - \\tilde{g}_\\alpha(\\mathbf{x} - \\mathbf{c}_\\alpha) \n",
    "$$\n",
    "The variation with respect to $g$\n",
    "\\begin{align*}\n",
    "\\mathrm{d}_g l_\\alpha(\\mathbf{x}) &= \\mathrm{d}_gg_\\alpha(\\mathbf{x}) - \\mathrm{d}_g\\tilde{g}_\\alpha(\\mathbf{x}- \\mathbf{c}_\\alpha)\n",
    "\\end{align*}\n",
    "$$"
   ]
  },
  {
   "cell_type": "code",
   "execution_count": null,
   "metadata": {},
   "outputs": [],
   "source": [
    "def dg_dl(alpha, pos, tau, source, w_list, c_list): \n",
    "    yield 1, (alpha, pos) \n",
    "    for v, i in dg_collision(alpha, pos-c_list[alpha], tau, source, w_list):\n",
    "        yield -v, i\n"
   ]
  },
  {
   "attachments": {},
   "cell_type": "markdown",
   "metadata": {},
   "source": [
    "For the bounce back we have that \n",
    "$$\n",
    "l_\\alpha(\\mathrm{x}) = g_{\\overline{\\alpha}}(\\mathbf{x}) + g_\\alpha(\\mathbf{x}) - 2w_\\alpha x\\,\\phi_\\mathrm{b},\n",
    "$$\n",
    "and \n",
    "$$\n",
    "\\mathrm{d}_gl_\\alpha(\\mathrm{x}) = \\mathrm{d}g_{\\overline{\\alpha}}(\\mathbf{x}) + \\mathrm{d}g_\\alpha(\\mathbf{x}),\n",
    "$$"
   ]
  },
  {
   "cell_type": "code",
   "execution_count": null,
   "metadata": {},
   "outputs": [],
   "source": [
    "def dg_dl_boundary(alpha, pos, alpha_hat): \n",
    "    yield 1, (alpha, pos)\n",
    "    yield 1, (alpha_hat[alpha], pos)\n"
   ]
  },
  {
   "attachments": {},
   "cell_type": "markdown",
   "metadata": {},
   "source": [
    "### $\\mathrm{d}_g H$\n",
    "\n",
    "$$\n",
    "\\mathrm{d}_g H = 2\\left(\\langle j_{\\mathrm{diff},x}\\rangle_{\\partial\\Omega} - j_{\\mathrm{target}}\\right)\\frac{\\left(1-\\frac{1}{2\\tau}\\right)}{|\\partial\\Omega_{\\mathrm{inlet}}|}\\sum_{\\mathbf{x}\\in\\partial\\Omega_{\\mathrm{inlet}}}\\mathrm{d}_gj_x(\\mathbf{x})\n",
    "$$"
   ]
  },
  {
   "cell_type": "code",
   "execution_count": null,
   "metadata": {},
   "outputs": [],
   "source": [
    "def dg_dH(pos, tau, flux, flux_target, c_list, system_size): \n",
    "    a = 2*(flux-flux_target)*(tau-0.5)/tau/system_size[1]\n",
    "    for v, i in dg_dj(pos, c_list):\n",
    "        yield a*v, i\n"
   ]
  },
  {
   "attachments": {},
   "cell_type": "markdown",
   "metadata": {},
   "source": [
    "#### $\\mathrm{d}_R R_\\alpha\\phi$"
   ]
  },
  {
   "cell_type": "code",
   "execution_count": 9,
   "metadata": {},
   "outputs": [
    {
     "ename": "NameError",
     "evalue": "name 'w' is not defined",
     "output_type": "error",
     "traceback": [
      "\u001b[0;31m---------------------------------------------------------------------------\u001b[0m",
      "\u001b[0;31mNameError\u001b[0m                                 Traceback (most recent call last)",
      "\u001b[1;32m/home/AD.NORCERESEARCH.NO/esje/Programs/GitHub/Adjoint/diffusion.ipynb Cell 20\u001b[0m in \u001b[0;36m8\n\u001b[1;32m     <a href='vscode-notebook-cell:/home/AD.NORCERESEARCH.NO/esje/Programs/GitHub/Adjoint/diffusion.ipynb#X14sZmlsZQ%3D%3D?line=78'>79</a>\u001b[0m     jx_mean \u001b[39m=\u001b[39m (\u001b[39m1\u001b[39m\u001b[39m-\u001b[39m\u001b[39m0.5\u001b[39m\u001b[39m/\u001b[39mtau)\u001b[39m*\u001b[39mnp\u001b[39m.\u001b[39msum(J)\u001b[39m/\u001b[39msystem_size[\u001b[39m1\u001b[39m]\n\u001b[1;32m     <a href='vscode-notebook-cell:/home/AD.NORCERESEARCH.NO/esje/Programs/GitHub/Adjoint/diffusion.ipynb#X14sZmlsZQ%3D%3D?line=80'>81</a>\u001b[0m     \u001b[39mreturn\u001b[39;00m phi, jx_mean, g\n\u001b[0;32m---> <a href='vscode-notebook-cell:/home/AD.NORCERESEARCH.NO/esje/Programs/GitHub/Adjoint/diffusion.ipynb#X14sZmlsZQ%3D%3D?line=83'>84</a>\u001b[0m source_const, x \u001b[39m=\u001b[39m calc_source_term(R, tau, xi, w, c, system_size)\n\u001b[1;32m     <a href='vscode-notebook-cell:/home/AD.NORCERESEARCH.NO/esje/Programs/GitHub/Adjoint/diffusion.ipynb#X14sZmlsZQ%3D%3D?line=85'>86</a>\u001b[0m \u001b[39m# Init system\u001b[39;00m\n\u001b[1;32m     <a href='vscode-notebook-cell:/home/AD.NORCERESEARCH.NO/esje/Programs/GitHub/Adjoint/diffusion.ipynb#X14sZmlsZQ%3D%3D?line=86'>87</a>\u001b[0m \u001b[39m# phi= 0.5*np.ones(system_size)*x\u001b[39;00m\n\u001b[1;32m     <a href='vscode-notebook-cell:/home/AD.NORCERESEARCH.NO/esje/Programs/GitHub/Adjoint/diffusion.ipynb#X14sZmlsZQ%3D%3D?line=87'>88</a>\u001b[0m \u001b[39m# g = w.reshape(9,1,1)*phi\u001b[39;00m\n\u001b[0;32m   (...)\u001b[0m\n\u001b[1;32m    <a href='vscode-notebook-cell:/home/AD.NORCERESEARCH.NO/esje/Programs/GitHub/Adjoint/diffusion.ipynb#X14sZmlsZQ%3D%3D?line=112'>113</a>\u001b[0m \u001b[39m# # J = np.sum(g[:, 0, :]*c[:,0].reshape(9,1), axis=0)\u001b[39;00m\n\u001b[1;32m    <a href='vscode-notebook-cell:/home/AD.NORCERESEARCH.NO/esje/Programs/GitHub/Adjoint/diffusion.ipynb#X14sZmlsZQ%3D%3D?line=113'>114</a>\u001b[0m \u001b[39m# # jx_mean = (1-0.5/tau)*np.sum(J)/system_size[1]\u001b[39;00m\n\u001b[1;32m    <a href='vscode-notebook-cell:/home/AD.NORCERESEARCH.NO/esje/Programs/GitHub/Adjoint/diffusion.ipynb#X14sZmlsZQ%3D%3D?line=115'>116</a>\u001b[0m phi, jx_mean , g \u001b[39m=\u001b[39m run_simulation(R, rho_left_hand, rho_right_hand, tau, num_iter, xi, w, c, system_size)\n",
      "\u001b[0;31mNameError\u001b[0m: name 'w' is not defined"
     ]
    }
   ],
   "source": [
    "system_size = (21, 21)\n",
    "tau = 0.7\n",
    "p_jmax = 0.4\n",
    "\n",
    "R = 5\n",
    "\n",
    "xi = 0.8\n",
    "num_iter = 2000\n",
    "\n",
    "rho_left_hand = 0.6\n",
    "rho_right_hand = 0.4\n",
    "\n",
    "D = (tau - 0.5)/3\n",
    "flux_max = -D*(rho_right_hand- rho_left_hand)/(system_size[0]-1)\n",
    "\n",
    "# flux = np.zeros(num_iter)\n",
    "\n",
    "def calc_source_term(R, tau, xi, w, c, system_size):\n",
    "    k = 0.150\n",
    "    gamma_s = 1\n",
    "    D = (tau - 0.5)/3\n",
    "    beta_s = gamma_s*D/(k*xi*tau)\n",
    "\n",
    "\n",
    "    # set up solid geometry\n",
    "    X, Y = np.mgrid[:system_size[0], :system_size[1]]\n",
    "    X = X-system_size[0]/2\n",
    "    Y = Y-system_size[1]/2\n",
    "    d = R - np.sqrt( X**2 + Y**2 )\n",
    "\n",
    "\n",
    "    x = 0.5*(1-np.tanh(d/xi))\n",
    "\n",
    "    # normal vectors\n",
    "    N = np.zeros( system_size + (2,))\n",
    "    N[1:-1,1:-1,0] = -0.5*(d[2:,1:-1] - d[:-2,1:-1]) \n",
    "    N[1:-1,1:-1,1] = -0.5*(d[1:-1, 2:] - d[1:-1,:-2]) \n",
    "    N[1:-1,1:-1,:] /= np.sqrt( np.sum(N[1:-1,1:-1,:]**2, axis=-1, keepdims=True) ) + 1e-10\n",
    "\n",
    "    # Calculate the flux source term for imposing the no-flux boundary condition\n",
    "    cnorm = c / (np.sqrt( np.sum(c**2, axis=-1, keepdims= True)) + 1e-10)\n",
    "    cnorm_dot_N = np.sum(cnorm.reshape(9,1,1,2)*N.reshape((1,)+N.shape), axis=-1)\n",
    "    return w.reshape(9,1,1)*beta_s*(1-x).reshape((1,)+x.shape)*cnorm_dot_N, x\n",
    "\n",
    "# Iterates the system one time step\n",
    "def oneiter(g, tau, source_const, rho_left_hand, rho_right_hand, w, c):\n",
    "    # Calculate the flux\n",
    "    # Collision\n",
    "    phi = np.sum(g, axis=0)\n",
    "    g_out = (1-1/tau)*g + (1/tau)*w.reshape(9,1,1)*phi  + source_const*phi.reshape((1,)+phi.shape)\n",
    "\n",
    "    # Propagation\n",
    "    g = propagate(g_out, c)\n",
    "\n",
    "    # Boundary conditions\n",
    "    # -- left hand side\n",
    "    for dir in [5, 1, 7]:\n",
    "        g[dir, 0, :] = 2*w[dir]*rho_left_hand - g[alpha_hat[dir], 0, :]\n",
    "\n",
    "    # -- Right hand side\n",
    "    for dir in [8, 2, 6]:\n",
    "        g[dir, -1, :] = 2*w[dir]*rho_right_hand - g[alpha_hat[dir], -1, :]\n",
    "    \n",
    "    return g, phi\n",
    "\n",
    "\n",
    "def run_simulation(R, rho_left_hand, rho_right_hand, tau, num_iter, xi, w, c, system_size):\n",
    "    source_const, x = calc_source_term(R, tau, xi, w, c, system_size)\n",
    "\n",
    "    # Init system\n",
    "    phi= 0.5*np.ones(system_size)*x\n",
    "    g = w.reshape(9,1,1)*phi\n",
    "\n",
    "    # Main loop\n",
    "    for iter in np.arange(num_iter):\n",
    "        g, phi = oneiter(g, tau, source_const, rho_left_hand, rho_right_hand, w, c)\n",
    "\n",
    "    J = np.sum(g[:, 0, :]*c[:,0].reshape(9,1), axis=0)\n",
    "    jx_mean = (1-0.5/tau)*np.sum(J)/system_size[1]\n",
    "\n",
    "    return phi, jx_mean, g\n",
    "\n",
    "\n",
    "source_const, x = calc_source_term(R, tau, xi, w, c, system_size)\n",
    "\n",
    "# Init system\n",
    "# phi= 0.5*np.ones(system_size)*x\n",
    "# g = w.reshape(9,1,1)*phi\n",
    "# g_out = np.zeros((9,)+system_size)\n",
    "\n",
    "\n",
    "\n",
    "# # Main loop\n",
    "# for iter in np.arange(num_iter):\n",
    "#     # # Calculate the flux\n",
    "#     # # Collision\n",
    "#     # phi = np.sum(g, axis=0)\n",
    "#     # g_out = (1-1/tau)*g + (1/tau)*w.reshape(9,1,1)*phi  + source_const*phi.reshape((1,)+phi.shape)\n",
    "\n",
    "#     # # Propagation\n",
    "#     # g = propagate(g_out, c)\n",
    "\n",
    "#     # # Boundary conditions\n",
    "#     # # -- left hand side\n",
    "#     # for dir in [5, 1, 7]:\n",
    "#     #     g[dir, 0, :] = 2*w[dir]*rho_left_hand - g[dir+1, 0, :]\n",
    "\n",
    "#     # # -- Right hand side\n",
    "#     # for dir in [8, 2, 6]:\n",
    "#     #     g[dir, -1, :] = 2*w[dir]*rho_right_hand - g[dir-1, -1, :]\n",
    "#     g, phi = oneiter(g, tau, source_const, rho_left_hand, rho_right_hand, w, c)\n",
    "\n",
    "# # J = np.sum(g[:, 0, :]*c[:,0].reshape(9,1), axis=0)\n",
    "# # jx_mean = (1-0.5/tau)*np.sum(J)/system_size[1]\n",
    "\n",
    "phi, jx_mean , g = run_simulation(R, rho_left_hand, rho_right_hand, tau, num_iter, xi, w, c, system_size)\n",
    "\n",
    "print(jx_mean, p_jmax*flux_max)\n",
    "\n",
    "# Plots\n",
    "plt.figure()\n",
    "plt.title(r\"$\\phi$\")\n",
    "plt.pcolormesh(phi.transpose())\n",
    "plt.axis(\"equal\")\n",
    "plt.colorbar()\n",
    "\n",
    "plt.figure()\n",
    "plt.title(r\"$x$\")\n",
    "plt.pcolormesh(x.transpose())\n",
    "plt.axis(\"equal\")\n",
    "plt.colorbar()\n",
    "\n",
    "plt.figure()\n",
    "plt.title(r\"$\\phi$\")\n",
    "plt.contourf(phi.transpose(), np.linspace(0.4, 0.6, 10))\n",
    "plt.axis(\"equal\")\n",
    "plt.colorbar()\n",
    "\n",
    "\n",
    "    "
   ]
  },
  {
   "attachments": {},
   "cell_type": "markdown",
   "metadata": {},
   "source": [
    "## Calculation of derivatives\n",
    "\n",
    "Definition of the system of equations for the bulk properties:\n",
    "$$\n",
    "l_\\alpha(\\mathbf{x}) = g_\\alpha(\\mathbf{x} + \\mathbf{c}_\\alpha) - \\left(g_\\alpha(\\mathbf{x}) - \\frac{1}{\\tau}\\left(g_\\alpha(\\mathbf{x}) - g_\\alpha^\\mathrm{eq}(\\mathbf{x})\\right) +  R_\\alpha(\\mathbf{x})\\phi\\right),\n",
    "$$\n",
    "The variation with respect to $g_\\alpha$\n",
    "\\begin{align*}\n",
    "\\mathrm{d}_g l_\\alpha(\\mathbf{x}) &= \\mathrm{d}g_\\alpha(\\mathbf{x} + \\mathbf{c}_\\alpha) - \\left(\\left( 1 - \\frac{1}{\\tau}\\right)\\mathrm{d}g_\\alpha(\\mathbf{x}) + \\frac{w_\\alpha}{\\tau}\\mathrm{d}\\phi + R_\\alpha(\\mathbf{x})\\mathrm{d}\\phi\\right)\\\\\n",
    "&=\\mathrm{d}g_\\alpha(\\mathbf{x} + \\mathbf{c}_\\alpha) - \\left(\\left( 1 - \\frac{1}{\\tau}\\right)\\mathrm{d}g_\\alpha(\\mathbf{x}) + \\left(\\frac{w_\\alpha}{\\tau} +  R_\\alpha(\\mathbf{x})\\right)\\mathrm{d}\\phi\\right),\n",
    "\\end{align*}\n",
    "where\n",
    "$$\n",
    "\\mathrm{d}\\phi = \\sum_\\alpha \\mathrm{d}g_\\alpha(\\mathbf{x})\n",
    "$$"
   ]
  },
  {
   "attachments": {},
   "cell_type": "markdown",
   "metadata": {},
   "source": [
    "### Implementation of the bulk variance for $g_\\alpha$\n",
    "We can simplify the notation to\n",
    "$$\n",
    "\\mathrm{d}g_\\alpha(\\mathbf{x} + \\mathbf{c}_\\alpha) + a(\\tau)\\,\\mathrm{d}g_\\alpha(\\mathbf{x}) + b(w_\\alpha, \\mathbf{c}_\\alpha, \\mathbf{n}, \\tau, \\beta_s, x)\\,\\mathrm{d}\\phi,\n",
    "$$\n",
    "where\n",
    "\\begin{align*}\n",
    "a&(\\tau) = -\\left( 1 - \\frac{1}{\\tau}\\right) \\\\\n",
    "b& (w_\\alpha, \\mathbf{c}_\\alpha, \\mathbf{n}, \\tau, \\beta_s, x) = -w_\\alpha\\left(\\frac{1}{\\tau} + \\beta_s(1-x)\\frac{\\mathbf{c}_\\alpha\\cdot\\mathbf{n}}{|\\mathbf{c}_\\alpha|}\\right)  = -\\left(\\frac{w_\\alpha}{\\tau} +  R_\\alpha(\\mathbf{x})\\right)\n",
    "\\end{align*}"
   ]
  },
  {
   "cell_type": "code",
   "execution_count": null,
   "metadata": {},
   "outputs": [
    {
     "name": "stdout",
     "output_type": "stream",
     "text": [
      "[1011 1002  999 1000 1001 1002 1003 1004 1005 1006 1007]\n",
      "[ 1.          0.42857143 -0.15844355 -0.15844355 -0.15844355 -0.15844355\n",
      " -0.15844355 -0.15844355 -0.15844355 -0.15844355 -0.15844355]\n"
     ]
    }
   ],
   "source": [
    "def sub2ind(alpha, sub, system_size):\n",
    "    return 9*int(sub[0]*system_size[1] + np.mod(sub[1], system_size[1])) + alpha\n",
    "\n",
    "gamma = 3\n",
    "sub = np.array((5,7))\n",
    "\n",
    "def dg_l_bulk(gamma, sub, tau, R_source, c,  system_size):\n",
    "    c_alpha = c[gamma]\n",
    "    # list of index\n",
    "    sub_from = (sub - c_alpha) % system_size \n",
    "    beta = np.array([sub2ind(gamma, sub, system_size), sub2ind(gamma, sub_from, system_size)] + [sub2ind(q, sub_from, system_size) for q in np.arange(9)]) \n",
    "    a = -(1-1/tau)\n",
    "    b = -(w[gamma]/tau + R_source[(gamma,) + tuple(sub_from)])\n",
    "    val = np.array([1, a] + 9*[b])\n",
    "    return val, beta\n",
    "val_out, beta_out = dg_l_bulk(gamma, sub, tau, source_const, c, system_size)\n",
    "\n",
    "print(beta_out)\n",
    "print(val_out)\n",
    "\n",
    "\n"
   ]
  },
  {
   "attachments": {},
   "cell_type": "markdown",
   "metadata": {},
   "source": [
    "### Implementation of the bounce back variance\n",
    "\n",
    "For the bounce back we have that \n",
    "$$\n",
    "l_\\alpha(\\mathrm{x}) = g_{\\overline{\\alpha}}(\\mathbf{x}) + g_\\alpha(\\mathbf{x}) - 2w_\\alpha x\\,\\phi_\\mathrm{b},\n",
    "$$\n",
    "and \n",
    "$$\n",
    "\\mathrm{d}_gl_\\alpha(\\mathrm{x}) = \\mathrm{d}g_{\\overline{\\alpha}}(\\mathbf{x}) + \\mathrm{d}g_\\alpha(\\mathbf{x}),\n",
    "$$"
   ]
  },
  {
   "cell_type": "code",
   "execution_count": null,
   "metadata": {},
   "outputs": [
    {
     "name": "stdout",
     "output_type": "stream",
     "text": [
      "[1011 1012]\n",
      "[1 1]\n"
     ]
    }
   ],
   "source": [
    "def dg_l_bounceback(gamma, sub, alpha_hat, system_size):\n",
    "    beta = np.array([sub2ind(gamma, sub, system_size), sub2ind(alpha_hat[gamma], sub, system_size)])\n",
    "    val = np.array([1, 1])\n",
    "    return val, beta\n",
    "\n",
    "def dg_l_bounceback2(gamma, sub, tau, R_source, alpha_hat, system_size):\n",
    "    gamma_hat = alpha_hat[gamma]\n",
    "    c_alpha_hat = c[gamma_hat]\n",
    "    sub_from = (sub - c_alpha_hat) % system_size \n",
    "    beta = np.array([sub2ind(gamma, sub, system_size)] + [sub2ind(gamma_hat, sub_from, system_size)] + [sub2ind(q, sub_from, system_size) for q in np.arange(9)])\n",
    "    a = (1-1/tau)\n",
    "    b = (w[gamma_hat]/tau + R_source[(gamma_hat,) + tuple(sub_from)])\n",
    "    val = np.array([1, a] + 9*[b])\n",
    "\n",
    "    return val, beta\n",
    "\n",
    "\n",
    "val_out, beta_out = dg_l_bounceback(gamma, sub, alpha_hat, system_size)\n",
    "print(beta_out)\n",
    "print(val_out)"
   ]
  },
  {
   "attachments": {},
   "cell_type": "markdown",
   "metadata": {},
   "source": [
    "### Variation of the signed distance function\n",
    "\n",
    "This variation is introduced through the $x$ function, so that \n",
    "$$\n",
    "\\mathrm{d}x = \\frac{1}{2}\\left(\\tanh^2\\left(d/\\xi\\right)-1\\right)\\mathrm{d}d = \\frac{2}{\\xi}(1-x)x\\,\\mathrm{d}d\n",
    "$$"
   ]
  },
  {
   "attachments": {},
   "cell_type": "markdown",
   "metadata": {},
   "source": [
    "### Simple spherical boundary\n",
    "$$\n",
    "d = r - \\sqrt{\\mathbf{x}\\cdot\\mathbf{x}},\n",
    "$$\n",
    "so that \n",
    "$$\n",
    "\\mathrm{d}d = \\mathrm{d}r\n",
    "$$\n"
   ]
  },
  {
   "attachments": {},
   "cell_type": "markdown",
   "metadata": {},
   "source": [
    "For the bulk we have that\n",
    "$$\n",
    "\\frac{\\partial l_\\alpha}{\\partial r} = w_\\alpha\\beta_s\\frac{\\mathbf{c}_\\alpha\\cdot\\mathbf{n}}{|\\mathbf{c}_\\alpha|}\\phi\\frac{2}{\\xi}(1-x)x\\ = \\frac{2x}{\\xi}R_\\alpha\\phi\n",
    "$$"
   ]
  },
  {
   "cell_type": "code",
   "execution_count": null,
   "metadata": {},
   "outputs": [
    {
     "name": "stdout",
     "output_type": "stream",
     "text": [
      "-0.0013927016796916783\n"
     ]
    }
   ],
   "source": [
    "def dr_l_bulk(gamma, sub, R_source, x, phi, xi):\n",
    "    return 2*R_source[(gamma,) + tuple(sub)]*x[tuple(sub)]*phi[tuple(sub)]/xi\n",
    "\n",
    "val_out = dr_l_bulk(gamma, sub, source_const, x, phi, xi)\n",
    "print(val_out)"
   ]
  },
  {
   "attachments": {},
   "cell_type": "markdown",
   "metadata": {},
   "source": [
    "### Cost function $H$\n",
    "\n",
    "Here we will simply assume that we want to obtain a given \\%, $p$, of the maximum flux through the system by changing the radius of the solid.\n",
    "We have that the flux, $\\mathbf{j}$, is given as\n",
    "$$\n",
    "  \\mathbf{j} = \\left(1-\\frac{1}{2\\tau}\\right)\\sum_\\alpha g_\\alpha\\mathbf{c}_\\alpha\n",
    "$$\n",
    "so that \n",
    "$$\n",
    "H = \\left(\\left(\\frac{1}{|\\partial\\Omega_{\\mathrm{inlet}}|}\\sum_{\\mathbf{x}\\in\\partial\\Omega_{\\mathrm{inlet}}}j_x(\\mathbf{x})\\right) - pj_{\\mathrm{max}}\\right)^2 = \\left(\\langle j_x\\rangle_{\\partial\\Omega} - pj_{\\mathrm{max}}\\right)^2,\n",
    "$$\n",
    "and\n",
    "$$\n",
    "\\mathrm{d} H = 2\\left(\\langle j_x\\rangle_{\\partial\\Omega} - pj_{\\mathrm{max}}\\right)\\frac{\\left(1-\\frac{1}{2\\tau}\\right)}{|\\partial\\Omega_{\\mathrm{inlet}}|}\\sum_{\\mathbf{x}\\in\\partial\\Omega_{\\mathrm{inlet}}}c_{\\alpha x}\\,\\mathrm{d}g_\\alpha(\\mathbf{x})\n",
    "$$"
   ]
  },
  {
   "cell_type": "code",
   "execution_count": null,
   "metadata": {},
   "outputs": [
    {
     "name": "stdout",
     "output_type": "stream",
     "text": [
      "[-0.0092517  0.0092517 -0.        -0.        -0.0092517  0.0092517\n",
      " -0.0092517  0.0092517]\n",
      "[1009 1010 1011 1012 1013 1014 1015 1016]\n"
     ]
    }
   ],
   "source": [
    "def dg_H(sub, p, jx_mean, jx_max, tau, boundary_size, c, system_size):\n",
    "    tmp = 2*(jx_mean - p*jx_max)*(1-0.5/tau)/boundary_size\n",
    "    val = tmp*c[1:, 0]\n",
    "    ind = np.array([sub2ind(q, sub, system_size) for q in np.arange(1,9)])\n",
    "    return val, ind\n",
    "\n",
    "val_out, ind_out = dg_H(sub, 0.7, 0.5, 1.2, tau, system_size[1], c, system_size)\n",
    "print(val_out)\n",
    "print(ind_out)"
   ]
  },
  {
   "attachments": {},
   "cell_type": "markdown",
   "metadata": {},
   "source": [
    "### Calculating the Lagrange multiplier\n",
    "\n",
    "Now we need to fill the matrixes for the calculation of the $\\lambda$'s\n",
    "$$\n",
    "    \\frac{\\partial H}{\\partial x_\\beta} + \\sum_\\gamma\\lambda_\\gamma\\frac{\\partial l_\\gamma}{\\partial x_\\beta} = 0,\n",
    "$$ \n",
    "We can write this on the standard from:\n",
    "$$\n",
    "M_{\\beta\\gamma}\\lambda_\\gamma = y_\\beta,\n",
    "$$\n",
    "where \n",
    "\\begin{align*}\n",
    "M_{\\beta\\gamma} &= \\frac{\\partial l_\\gamma}{\\partial x_\\beta} \\\\\n",
    "y_\\beta &= -\\frac{\\partial H}{\\partial x_\\beta}.\n",
    "\\end{align*}"
   ]
  },
  {
   "cell_type": "code",
   "execution_count": null,
   "metadata": {},
   "outputs": [
    {
     "name": "stdout",
     "output_type": "stream",
     "text": [
      "Assemble matrix =  0.49059106100000005  s\n",
      "Solving matrix system =  0.040335791  s\n"
     ]
    },
    {
     "data": {
      "image/png": "[encoded data removed]",
      "text/plain": [
       "<Figure size 640x480 with 1 Axes>"
      ]
     },
     "metadata": {},
     "output_type": "display_data"
    },
    {
     "data": {
      "image/png": "[encoded data removed]",
      "text/plain": [
       "<Figure size 640x480 with 1 Axes>"
      ]
     },
     "metadata": {},
     "output_type": "display_data"
    }
   ],
   "source": [
    "# Setup system of equations\n",
    "from scipy.sparse import lil_matrix\n",
    "from scipy.sparse.linalg import spsolve\n",
    "from time import time_ns\n",
    "\n",
    "time_start = time_ns()\n",
    "\n",
    "# Setup system size\n",
    "N = 9*np.prod(system_size)\n",
    "\n",
    "M = lil_matrix((N, N))\n",
    "y = np.zeros((N,))\n",
    "\n",
    "\n",
    "# Bulk part of system\n",
    "for i in np.arange(1, system_size[0]-1):\n",
    "    for j in np.arange(system_size[1]):\n",
    "        for alpha in np.arange(9):\n",
    "            gamma = sub2ind(alpha, (i, j), system_size)\n",
    "            for v, beta in zip(*dg_l_bulk(alpha, (i, j), tau, source_const, c, system_size)):\n",
    "                M[beta, gamma] += v\n",
    "\n",
    "# Left hand boundary\n",
    "#for i, alpha_list in zip([0, system_size[0]-1], [[1, 5, 7], [2, 6, 8]]):\n",
    "i = 0\n",
    "for j in np.arange(system_size[1]):\n",
    "    for  alpha in np.arange(9):\n",
    "        gamma = sub2ind(alpha, (i, j), system_size)\n",
    "        if alpha in [1, 5, 7]:\n",
    "            #for v, beta in zip(*dg_l_bounceback(alpha, (i, j), alpha_hat, system_size)):\n",
    "            for v, beta in zip(*dg_l_bounceback2(alpha, (i, j), tau, source_const, alpha_hat, system_size)):\n",
    "                M[beta, gamma] += v\n",
    "        else:\n",
    "            for v, beta in zip(*dg_l_bulk(alpha, (i, j), tau, source_const, c, system_size)):\n",
    "                M[beta, gamma] += v\n",
    "\n",
    "i = system_size[0]-1\n",
    "for j in np.arange(system_size[1]):\n",
    "    val, ind = dg_H((i, j), p_jmax, jx_mean, flux_max, tau, system_size[1], c, system_size)\n",
    "    for v, beta in zip(val, ind):\n",
    "        y[beta] -= v\n",
    "    for  alpha in np.arange(9):\n",
    "        gamma = sub2ind(alpha, (i, j), system_size)\n",
    "        if alpha in [2, 6, 8]:\n",
    "            # for v, beta in zip(*dg_l_bounceback(alpha, (i, j), alpha_hat, system_size)):\n",
    "            for v, beta in zip(*dg_l_bounceback2(alpha, (i, j), tau, source_const, alpha_hat, system_size)):\n",
    "                M[beta, gamma] += v\n",
    "        else:\n",
    "            for v, beta in zip(*dg_l_bulk(alpha, (i, j), tau, source_const, c, system_size)):\n",
    "                M[beta, gamma] += v\n",
    "\n",
    "M = M.tocsr()\n",
    "\n",
    "print(\"Assemble matrix = \", (time_ns()-time_start)*1e-9, \" s\")\n",
    "\n",
    "time_start = time_ns()\n",
    "lag_mult = spsolve(M, y) # Lagrange multiplicator\n",
    "\n",
    "plt.figure()\n",
    "plt.plot(lag_mult, '.')\n",
    "\n",
    "plt.figure()\n",
    "plt.plot(y, '.')\n",
    "\n",
    "print(\"Solving matrix system = \", (time_ns()-time_start)*1e-9, \" s\")\n"
   ]
  },
  {
   "attachments": {},
   "cell_type": "markdown",
   "metadata": {},
   "source": [
    "### Calculate $\\partial L/\\partial p_\\alpha$\n",
    "\n",
    "Here we will define this vector as\n",
    "\\begin{equation*}\n",
    "\\frac{\\partial L}{\\partial p_\\alpha} = \\frac{\\partial H}{\\partial p_\\alpha} + \\sum_\\gamma\\lambda_\\gamma\\frac{\\partial l_\\gamma}{\\partial p_\\alpha}\n",
    "\\end{equation*}"
   ]
  },
  {
   "cell_type": "code",
   "execution_count": null,
   "metadata": {},
   "outputs": [
    {
     "name": "stdout",
     "output_type": "stream",
     "text": [
      "-1.1211152317874315e-08\n",
      "-2.6213528191463335e-08\n",
      "2.338165377493822\n"
     ]
    },
    {
     "data": {
      "image/png": "[encoded data removed]",
      "text/plain": [
       "<Figure size 640x480 with 1 Axes>"
      ]
     },
     "metadata": {},
     "output_type": "display_data"
    }
   ],
   "source": [
    "# Here we have  H has no functional dependency of R\n",
    "dl_dR = np.zeros((N,))\n",
    "\n",
    "\n",
    "# Bulk part of system\n",
    "for i in np.arange(1, system_size[0]-1):\n",
    "    for j in np.arange(system_size[1]):\n",
    "        for alpha in np.arange(9):\n",
    "            gamma = sub2ind(alpha, (i, j), system_size)\n",
    "            dl_dR[gamma] += dr_l_bulk(alpha, (i,j), source_const, x, phi, xi)\n",
    "\n",
    "\n",
    "# Need to include the left and right hand boundaries (use not in?)            \n",
    "i = 0\n",
    "for j in np.arange(system_size[1]):\n",
    "    gen = (x for x in np.arange(9) if x not in [1, 5, 7])\n",
    "    for alpha in gen:\n",
    "        gamma = sub2ind(alpha, (i, j), system_size)\n",
    "        dl_dR[gamma] += dr_l_bulk(alpha, (i,j), source_const, x, phi, xi)\n",
    "\n",
    "i = system_size[0]-1\n",
    "for j in np.arange(system_size[1]):\n",
    "    gen = (x for x in np.arange(9) if x not in [2, 6, 8])\n",
    "    for alpha in gen:\n",
    "        gamma = sub2ind(alpha, (i, j), system_size)\n",
    "        dl_dR[gamma] += dr_l_bulk(alpha, (i,j), source_const, x, phi, xi)\n",
    "\n",
    "\n",
    "plt.figure()\n",
    "plt.plot(dl_dR, '.')\n",
    "\n",
    "\n",
    "dH_calc = np.dot(lag_mult,dl_dR) \n",
    "print(dH_calc)\n",
    "\n",
    "\n",
    "H_R = (jx_mean - p_jmax*flux_max)**2\n",
    "#print(H_R)\n",
    "dR = 0.001\n",
    "\n",
    "phi, jx_mean_dR, g_tmp = run_simulation(R+dR, rho_left_hand, rho_right_hand, tau, num_iter, xi, w, c, system_size)\n",
    "\n",
    "H_RpdR = (jx_mean_dR - p_jmax*flux_max)**2\n",
    "#print(H_RpdR)\n",
    "dH_num = (H_RpdR - H_R)/dR\n",
    "print(dH_num)\n",
    "print(dH_num/dH_calc)"
   ]
  },
  {
   "attachments": {},
   "cell_type": "markdown",
   "metadata": {},
   "source": [
    "### Test scripts"
   ]
  },
  {
   "cell_type": "code",
   "execution_count": null,
   "metadata": {},
   "outputs": [
    {
     "name": "stdout",
     "output_type": "stream",
     "text": [
      "[1010 1199 1197 1198 1199 1200 1201 1202 1203 1204 1205]\n",
      "1010\n"
     ]
    },
    {
     "data": {
      "text/plain": [
       "[<matplotlib.lines.Line2D at 0x7f684261c430>]"
      ]
     },
     "execution_count": 11,
     "metadata": {},
     "output_type": "execute_result"
    },
    {
     "data": {
      "image/png": "[encoded data removed]",
      "text/plain": [
       "<Figure size 640x480 with 1 Axes>"
      ]
     },
     "metadata": {},
     "output_type": "display_data"
    },
    {
     "data": {
      "image/png": "[encoded data removed]",
      "text/plain": [
       "<Figure size 640x480 with 1 Axes>"
      ]
     },
     "metadata": {},
     "output_type": "display_data"
    }
   ],
   "source": [
    "# Test of the bulk derivatives\n",
    "\n",
    "\n",
    "param = (tau, source_const, rho_left_hand, rho_right_hand, w, c)\n",
    "\n",
    "def l_gamma(g, tau, source_const, rho_left_hand, rho_right_hand, w, c):\n",
    "    g_new, tmp = oneiter(g, tau, source_const, rho_left_hand, rho_right_hand, w, c)\n",
    "    return g - g_new\n",
    "\n",
    "g_dl = np.copy(g)\n",
    "\n",
    "dg = 1e-5\n",
    "\n",
    "gamma = 2\n",
    "sub = np.array((5, 7))\n",
    "val_calc, ind_calc = dg_l_bulk(gamma, sub, tau, source_const, c, system_size)\n",
    "\n",
    "print(ind_calc)\n",
    "\n",
    "sub_test = sub #+c[gamma, ...]\n",
    "print(sub2ind(gamma, sub_test, system_size))\n",
    "# g_dl[gamma, sub[0], sub[1]] += dg\n",
    "\n",
    "# dl = (l_gamma(g_dl, *param) - l_gamma(g, *param))/dg\n",
    "# ind = [sub2ind(a[0], a[1:], system_size) for a in np.argwhere(np.abs(dl)> 1e-10)]\n",
    "# val = dl[np.abs(dl)> 1e-10]\n",
    "\n",
    "val_num = []\n",
    "ind_num = []\n",
    "for i in np.arange(2, 9):\n",
    "    for j in np.arange(4, 11):\n",
    "        for alpha in np.arange(9):\n",
    "            g_dl[alpha, i, j] += dg\n",
    "            dl = (l_gamma(g_dl, *param) - l_gamma(g, *param))/dg\n",
    "            g_dl[alpha, i, j] -= dg\n",
    "            val =  dl[(gamma, ) + tuple(sub_test)]\n",
    "            if np.abs(val) > 1e-10:\n",
    "                val_num += [val]\n",
    "                ind_num += [sub2ind(alpha, [i, j], system_size)]\n",
    "\n",
    "calc = {}\n",
    "for val, ind in zip(val_calc, ind_calc):\n",
    "    calc[ind] = val + calc.get(ind, 0)\n",
    "ind_calc = np.array(list(calc))\n",
    "val_calc = np.array(list(calc.values()))\n",
    "\n",
    "plt.figure()\n",
    "plt.plot(ind_num, val_num, 'x')\n",
    "plt.plot(ind_calc, val_calc, '.')\n",
    "\n",
    "plt.figure()\n",
    "ind_num = np.array(ind_num)\n",
    "val_num = np.array(val_num)\n",
    "\n",
    "for ind, val in zip([ind_num, ind_calc],[val_num, val_calc]):\n",
    "    a = np.argsort(ind)\n",
    "    ind[:] = ind[a]\n",
    "    val[:] = val[a]\n",
    "\n",
    "plt.plot(ind_num- ind_calc, 'x')\n",
    "plt.plot(val_num - val_calc , '.')\n",
    "\n",
    "\n",
    "# plt.figure()\n",
    "# plt.plot(ind_num - ind_calc, 'x')\n",
    "# plt.plot(val_calc - val_num, 'o')\n",
    "\n",
    "\n",
    "# #tmp = np.any(np.abs(dl)> 1e-10, axis=0)\n",
    "# tmp = np.sum(np.abs(dl)> 1e-10, axis=0)\n",
    "# plt.figure()\n",
    "# plt.pcolormesh(tmp.transpose())\n",
    "# plt.axis('equal')\n",
    "# plt.colorbar()\n",
    "\n"
   ]
  },
  {
   "attachments": {},
   "cell_type": "markdown",
   "metadata": {},
   "source": [
    "## Old text\n",
    "\n",
    "In this setup we have that the flux, $\\mathbf{j}$, is given as\n",
    "$$\n",
    "  \\mathbf{j} = \\left(1-\\frac{1}{2\\tau}\\right)\\sum_\\alpha g_\\alpha\\mathbf{c}_\\alpha + \\frac{1}{2}\\mathbf{q}.\n",
    "$$\n",
    "We want that $\\mathbf{q} = 0$ except at the solid boundary where,\n",
    "$$\n",
    "\\mathbf{n}\\cdot\\mathbf{q} = -2\\left(1-\\frac{1}{2\\tau}\\right)\\sum_\\alpha g_\\alpha\\mathbf{n}\\cdot\\mathbf{c}_\\alpha,\n",
    "$$\n",
    "so that $\\mathbf{n}\\cdot\\mathbf{j} = 0$.\n",
    "\n",
    "For the inlet/outlet boundary conditions we will use a simple bounce back boundary condition. From the Chapman-Enskog procedure we get that,\n",
    "$$\n",
    "g_\\alpha^\\mathrm{neq} = \\tau w_\\alpha c_{\\alpha, i}\\left(\\frac{q_i}{c_s^2}-\\frac{\\partial\\phi}{\\partial x_i}\\right),\n",
    "$$\n",
    "that that\n",
    "$$\n",
    "g_\\alpha + g_{\\overline{\\alpha}} = 2w_\\alpha\\phi,\n",
    "$$\n",
    "where $\\mathbf{c}_{\\overline{\\alpha}} = -\\mathbf{c}_\\alpha$.\n",
    "\n",
    "\\begin{align*}\n",
    "\\sum_\\alpha c_{\\alpha i} g_\\alpha^\\mathrm{neq} &= \\sum_\\alpha c_{\\alpha i}\\tau w_\\alpha c_{\\alpha, j}\\left(\\frac{q_j}{c_s^2}-\\frac{\\partial\\phi}{\\partial x_j}\\right) \\\\\n",
    "\\sum_\\alpha c_{\\alpha i} g_\\alpha^\\mathrm{neq} &= \\tau c_s^2\\delta_{ij}\\left(\\frac{q_j}{c_s^2}-\\frac{\\partial\\phi}{\\partial x_j}\\right) \\\\\n",
    "\\frac{1}{\\tau}\\sum_\\alpha c_{\\alpha i} g_\\alpha^\\mathrm{neq} &= c_s^2\\left(\\frac{q_i}{c_s^2}-\\frac{\\partial\\phi}{\\partial x_i}\\right) \\\\\n",
    "\\frac{1}{\\tau}\\sum_\\alpha c_{\\alpha i} g_\\alpha^\\mathrm{neq} &= q_i-c_s^2\\frac{\\partial\\phi}{\\partial x_i} \\\\\n",
    "q_i - \\frac{1}{\\tau}\\sum_\\alpha c_{\\alpha i} g_\\alpha^\\mathrm{neq} &= c_s^2\\frac{\\partial\\phi}{\\partial x_i} \\\\\n",
    "\\end{align*}"
   ]
  }
 ],
 "metadata": {
  "kernelspec": {
   "display_name": "PythonScripts",
   "language": "python",
   "name": "python3"
  },
  "language_info": {
   "codemirror_mode": {
    "name": "ipython",
    "version": 3
   },
   "file_extension": ".py",
   "mimetype": "text/x-python",
   "name": "python",
   "nbconvert_exporter": "python",
   "pygments_lexer": "ipython3",
   "version": "3.8.10"
  },
  "orig_nbformat": 4
 },
 "nbformat": 4,
 "nbformat_minor": 2
}
